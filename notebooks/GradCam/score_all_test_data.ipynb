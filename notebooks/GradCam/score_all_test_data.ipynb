{
 "cells": [
  {
   "cell_type": "markdown",
   "metadata": {},
   "source": [
    "# Score alla data with all model"
   ]
  },
  {
   "cell_type": "code",
   "execution_count": 1,
   "metadata": {},
   "outputs": [],
   "source": [
    "import pandas as pd\n",
    "import torch\n",
    "from torch.utils.data import DataLoader\n",
    "\n",
    "from deep_nlp.cnncharclassifier import CNNCharClassifier, charToTensor\n",
    "from src.deep_nlp.embed_cnn.embcnnmodel_gradcam import classifier3F\n",
    "from deep_nlp.bilstm_cnn.bilstmcnn_gradcam import BilstmCnn\n",
    "\n",
    "\n",
    "import pickle\n",
    "\n",
    "from deep_nlp.grad_cam.utils.letter import rebuild_text, prepare_heatmap, LetterToToken\n",
    "from deep_nlp.grad_cam.plot import plot_bar_heatmap, plot_text_and_heatmap"
   ]
  },
  {
   "cell_type": "code",
   "execution_count": 2,
   "metadata": {},
   "outputs": [
    {
     "name": "stdout",
     "output_type": "stream",
     "text": [
      "C:\\Users\\wenceslas\\Documents\\cours\\ENSAE\\2A\\Normal\\statapp\\nlp_understanding\n"
     ]
    }
   ],
   "source": [
    "from pathlib import Path\n",
    "\n",
    "current_dir = Path.cwd()  # this points to 'notebooks/' folder\n",
    "proj_path = current_dir.parent.parent \n",
    "print(proj_path)"
   ]
  },
  {
   "cell_type": "markdown",
   "metadata": {},
   "source": [
    "### CNN character level"
   ]
  },
  {
   "cell_type": "code",
   "execution_count": 3,
   "metadata": {},
   "outputs": [],
   "source": [
    "# params\n",
    "cnn_sequence_len= 1014\n",
    "cnn_feature_num= 87\n",
    "cnn_feature_size= 256\n",
    "cnn_kernel_one= 7\n",
    "cnn_kernel_two= 3\n",
    "cnn_stride_one= 1\n",
    "cnn_stride_two= 3\n",
    "cnn_output_linear= 1024\n",
    "cnn_num_class= 2\n",
    "cnn_dropout= 0.5\n",
    "cnn_cuda_allow= True"
   ]
  },
  {
   "cell_type": "code",
   "execution_count": 4,
   "metadata": {},
   "outputs": [],
   "source": [
    "# Load model\n",
    "model_path_saved= \"data/06_models/cnn_char_classifier/cnn_char_model/cnn_char_model.pt\"\n",
    "\n",
    "with open(str(proj_path)+ \"\\\\\" + model_path_saved, 'rb') as f:\n",
    "    model_saved= pickle.load(f)"
   ]
  },
  {
   "cell_type": "markdown",
   "metadata": {},
   "source": [
    "#### Engineering process"
   ]
  },
  {
   "cell_type": "code",
   "execution_count": 5,
   "metadata": {},
   "outputs": [],
   "source": [
    "# Load test data\n",
    "data_df= pd.read_csv(str(proj_path)+ \"\\\\\" + \"data/01_raw/allocine_test.csv\")\n",
    "\n",
    "test_data= charToTensor(data_df= data_df, sentence_max_size= cnn_sequence_len)\n",
    "\n",
    "test_load = DataLoader(test_data, batch_size= 1\n",
    "                       , num_workers=4)"
   ]
  },
  {
   "cell_type": "markdown",
   "metadata": {},
   "source": [
    "#### Load trained model"
   ]
  },
  {
   "cell_type": "code",
   "execution_count": 6,
   "metadata": {},
   "outputs": [],
   "source": [
    "# Initialisation\n",
    "parameters = {\"sequence_len\": cnn_sequence_len, \"feature_num\": cnn_feature_num\n",
    "    , \"feature_size\": cnn_feature_size, \"kernel_one\": cnn_kernel_one\n",
    "    , \"kernel_two\": cnn_kernel_two, \"stride_one\": cnn_stride_one\n",
    "    , \"stride_two\": cnn_stride_two, \"output_linear\": cnn_output_linear\n",
    "    , \"num_class\": cnn_num_class, \"dropout\": cnn_dropout}"
   ]
  },
  {
   "cell_type": "code",
   "execution_count": 7,
   "metadata": {},
   "outputs": [
    {
     "data": {
      "text/plain": [
       "DataParallel(\n",
       "  (module): CNNCharClassifier(\n",
       "    (before_conv): Sequential(\n",
       "      (conv1_conv): Conv1d(87, 256, kernel_size=(7,), stride=(1,))\n",
       "      (conv1_relu): ReLU()\n",
       "    )\n",
       "    (pool): Sequential(\n",
       "      (conv1_maxpool): MaxPool1d(kernel_size=3, stride=3, padding=0, dilation=1, ceil_mode=False)\n",
       "    )\n",
       "    (after_conv): Sequential(\n",
       "      (conv2): Sequential(\n",
       "        (0): Conv1d(256, 256, kernel_size=(7,), stride=(1,))\n",
       "        (1): ReLU()\n",
       "        (2): MaxPool1d(kernel_size=3, stride=3, padding=0, dilation=1, ceil_mode=False)\n",
       "      )\n",
       "      (conv3): Sequential(\n",
       "        (0): Conv1d(256, 256, kernel_size=(3,), stride=(1,))\n",
       "        (1): ReLU()\n",
       "      )\n",
       "      (conv4): Sequential(\n",
       "        (0): Conv1d(256, 256, kernel_size=(3,), stride=(1,))\n",
       "        (1): ReLU()\n",
       "      )\n",
       "      (conv5): Sequential(\n",
       "        (0): Conv1d(256, 256, kernel_size=(3,), stride=(1,))\n",
       "        (1): ReLU()\n",
       "      )\n",
       "      (conv6): Sequential(\n",
       "        (0): Conv1d(256, 256, kernel_size=(3,), stride=(1,))\n",
       "        (1): ReLU()\n",
       "        (2): MaxPool1d(kernel_size=3, stride=3, padding=0, dilation=1, ceil_mode=False)\n",
       "      )\n",
       "    )\n",
       "    (conv1_conv): Conv1d(87, 256, kernel_size=(7,), stride=(1,))\n",
       "    (conv1_relu): ReLU()\n",
       "    (conv1_maxpool): MaxPool1d(kernel_size=3, stride=3, padding=0, dilation=1, ceil_mode=False)\n",
       "    (conv2): Sequential(\n",
       "      (0): Conv1d(256, 256, kernel_size=(7,), stride=(1,))\n",
       "      (1): ReLU()\n",
       "      (2): MaxPool1d(kernel_size=3, stride=3, padding=0, dilation=1, ceil_mode=False)\n",
       "    )\n",
       "    (conv3): Sequential(\n",
       "      (0): Conv1d(256, 256, kernel_size=(3,), stride=(1,))\n",
       "      (1): ReLU()\n",
       "    )\n",
       "    (conv4): Sequential(\n",
       "      (0): Conv1d(256, 256, kernel_size=(3,), stride=(1,))\n",
       "      (1): ReLU()\n",
       "    )\n",
       "    (conv5): Sequential(\n",
       "      (0): Conv1d(256, 256, kernel_size=(3,), stride=(1,))\n",
       "      (1): ReLU()\n",
       "    )\n",
       "    (conv6): Sequential(\n",
       "      (0): Conv1d(256, 256, kernel_size=(3,), stride=(1,))\n",
       "      (1): ReLU()\n",
       "      (2): MaxPool1d(kernel_size=3, stride=3, padding=0, dilation=1, ceil_mode=False)\n",
       "    )\n",
       "    (fc1): Sequential(\n",
       "      (0): Linear(in_features=8704, out_features=1024, bias=True)\n",
       "      (1): ReLU()\n",
       "      (2): Dropout(p=0.5, inplace=False)\n",
       "    )\n",
       "    (fc2): Sequential(\n",
       "      (0): Linear(in_features=1024, out_features=1024, bias=True)\n",
       "      (1): ReLU()\n",
       "      (2): Dropout(p=0.5, inplace=False)\n",
       "    )\n",
       "    (fc3): Linear(in_features=1024, out_features=2, bias=True)\n",
       "    (log_softmax): LogSoftmax(dim=1)\n",
       "  )\n",
       ")"
      ]
     },
     "execution_count": 7,
     "metadata": {},
     "output_type": "execute_result"
    }
   ],
   "source": [
    "model = CNNCharClassifier(**parameters)\n",
    "\n",
    "if cnn_cuda_allow:\n",
    "    model = torch.nn.DataParallel(model).cuda()\n",
    "else:\n",
    "    model = torch.nn.DataParallel(model)\n",
    "\n",
    "model.load_state_dict(model_saved)\n",
    "\n",
    "# state_dict= model.module.state_dict() # delete module to allow cpu loading\n",
    "\n",
    "# cpu_model= CNNCharClassifier(**parameters).cpu()\n",
    "# cpu_model.load_state_dict(state_dict)\n",
    "\n",
    "model.eval()"
   ]
  },
  {
   "cell_type": "markdown",
   "metadata": {},
   "source": [
    "#### Score"
   ]
  },
  {
   "cell_type": "code",
   "execution_count": 8,
   "metadata": {},
   "outputs": [],
   "source": [
    "pred_test = []\n",
    "lab = []\n",
    "reviews= []\n",
    "alphabet= test_data.get_alphabet()+\" \"\n",
    "\n",
    "with torch.no_grad():\n",
    "    for review, label in test_load:\n",
    "        pred_test.append(torch.exp(model(review)))\n",
    "        lab.append(label.float())\n",
    "        \n",
    "pred_test = torch.cat(pred_test)\n",
    "lab = torch.cat(lab)"
   ]
  },
  {
   "cell_type": "code",
   "execution_count": 9,
   "metadata": {},
   "outputs": [],
   "source": [
    "text_review_all= data_df[\"review\"].values"
   ]
  },
  {
   "cell_type": "code",
   "execution_count": 10,
   "metadata": {},
   "outputs": [],
   "source": [
    "results= pd.DataFrame({\n",
    "    \"review\": text_review_all\n",
    "    , \"label\": lab\n",
    "    , \"cnn_char_proba_1\": pred_test.cpu()[:,1]\n",
    "})"
   ]
  },
  {
   "cell_type": "code",
   "execution_count": 11,
   "metadata": {},
   "outputs": [
    {
     "data": {
      "text/html": [
       "<div>\n",
       "<style scoped>\n",
       "    .dataframe tbody tr th:only-of-type {\n",
       "        vertical-align: middle;\n",
       "    }\n",
       "\n",
       "    .dataframe tbody tr th {\n",
       "        vertical-align: top;\n",
       "    }\n",
       "\n",
       "    .dataframe thead th {\n",
       "        text-align: right;\n",
       "    }\n",
       "</style>\n",
       "<table border=\"1\" class=\"dataframe\">\n",
       "  <thead>\n",
       "    <tr style=\"text-align: right;\">\n",
       "      <th></th>\n",
       "      <th>review</th>\n",
       "      <th>label</th>\n",
       "      <th>cnn_char_proba_1</th>\n",
       "    </tr>\n",
       "  </thead>\n",
       "  <tbody>\n",
       "    <tr>\n",
       "      <th>0</th>\n",
       "      <td>Magnifique épopée, une belle histoire, touchan...</td>\n",
       "      <td>1.0</td>\n",
       "      <td>0.998517</td>\n",
       "    </tr>\n",
       "    <tr>\n",
       "      <th>1</th>\n",
       "      <td>Je n'ai pas aimé mais pourtant je lui mets 2 é...</td>\n",
       "      <td>0.0</td>\n",
       "      <td>0.029711</td>\n",
       "    </tr>\n",
       "    <tr>\n",
       "      <th>2</th>\n",
       "      <td>Un dessin animé qui brille par sa féerie et se...</td>\n",
       "      <td>1.0</td>\n",
       "      <td>0.926308</td>\n",
       "    </tr>\n",
       "    <tr>\n",
       "      <th>3</th>\n",
       "      <td>Si c'est là le renouveau du cinéma français, c...</td>\n",
       "      <td>0.0</td>\n",
       "      <td>0.017137</td>\n",
       "    </tr>\n",
       "    <tr>\n",
       "      <th>4</th>\n",
       "      <td>Et pourtant on s’en Doutait !Second volet très...</td>\n",
       "      <td>0.0</td>\n",
       "      <td>0.001211</td>\n",
       "    </tr>\n",
       "    <tr>\n",
       "      <th>...</th>\n",
       "      <td>...</td>\n",
       "      <td>...</td>\n",
       "      <td>...</td>\n",
       "    </tr>\n",
       "    <tr>\n",
       "      <th>19995</th>\n",
       "      <td>je suis éventreur, arracheur, tailladeur, goug...</td>\n",
       "      <td>1.0</td>\n",
       "      <td>0.990253</td>\n",
       "    </tr>\n",
       "    <tr>\n",
       "      <th>19996</th>\n",
       "      <td>Trémors 3 essouffle la série des trémors par u...</td>\n",
       "      <td>0.0</td>\n",
       "      <td>0.892512</td>\n",
       "    </tr>\n",
       "    <tr>\n",
       "      <th>19997</th>\n",
       "      <td>0/20 : Tout d’abord, la mise en scène est tout...</td>\n",
       "      <td>0.0</td>\n",
       "      <td>0.000209</td>\n",
       "    </tr>\n",
       "    <tr>\n",
       "      <th>19998</th>\n",
       "      <td>Un scénario très original mené par des personn...</td>\n",
       "      <td>1.0</td>\n",
       "      <td>0.998653</td>\n",
       "    </tr>\n",
       "    <tr>\n",
       "      <th>19999</th>\n",
       "      <td>Ce dernier volet de la trilogie a beau être le...</td>\n",
       "      <td>1.0</td>\n",
       "      <td>0.999980</td>\n",
       "    </tr>\n",
       "  </tbody>\n",
       "</table>\n",
       "<p>20000 rows × 3 columns</p>\n",
       "</div>"
      ],
      "text/plain": [
       "                                                  review  label  \\\n",
       "0      Magnifique épopée, une belle histoire, touchan...    1.0   \n",
       "1      Je n'ai pas aimé mais pourtant je lui mets 2 é...    0.0   \n",
       "2      Un dessin animé qui brille par sa féerie et se...    1.0   \n",
       "3      Si c'est là le renouveau du cinéma français, c...    0.0   \n",
       "4      Et pourtant on s’en Doutait !Second volet très...    0.0   \n",
       "...                                                  ...    ...   \n",
       "19995  je suis éventreur, arracheur, tailladeur, goug...    1.0   \n",
       "19996  Trémors 3 essouffle la série des trémors par u...    0.0   \n",
       "19997  0/20 : Tout d’abord, la mise en scène est tout...    0.0   \n",
       "19998  Un scénario très original mené par des personn...    1.0   \n",
       "19999  Ce dernier volet de la trilogie a beau être le...    1.0   \n",
       "\n",
       "       cnn_char_proba_1  \n",
       "0              0.998517  \n",
       "1              0.029711  \n",
       "2              0.926308  \n",
       "3              0.017137  \n",
       "4              0.001211  \n",
       "...                 ...  \n",
       "19995          0.990253  \n",
       "19996          0.892512  \n",
       "19997          0.000209  \n",
       "19998          0.998653  \n",
       "19999          0.999980  \n",
       "\n",
       "[20000 rows x 3 columns]"
      ]
     },
     "execution_count": 11,
     "metadata": {},
     "output_type": "execute_result"
    }
   ],
   "source": [
    "results"
   ]
  },
  {
   "cell_type": "markdown",
   "metadata": {},
   "source": [
    "### Embedding CNN (5 filters)"
   ]
  },
  {
   "cell_type": "markdown",
   "metadata": {},
   "source": [
    "#### Load Test loader"
   ]
  },
  {
   "cell_type": "code",
   "execution_count": 12,
   "metadata": {},
   "outputs": [
    {
     "name": "stdout",
     "output_type": "stream",
     "text": [
      "<class 'torch.utils.data.dataloader.DataLoader'>\n"
     ]
    }
   ],
   "source": [
    "test_iterator_cnn_embed_path= \"data/02_intermediate/test_iterator_cnn_embed.pkl\"\n",
    "\n",
    "with open(str(proj_path)+ \"\\\\\" + test_iterator_cnn_embed_path, 'rb') as f:\n",
    "    test_iterator_cnn_embed= pickle.load(f)\n",
    "    \n",
    "print(type(test_iterator_cnn_embed))"
   ]
  },
  {
   "cell_type": "markdown",
   "metadata": {},
   "source": [
    "#### Load Embedding"
   ]
  },
  {
   "cell_type": "code",
   "execution_count": 13,
   "metadata": {},
   "outputs": [
    {
     "name": "stdout",
     "output_type": "stream",
     "text": [
      "<class 'torch.Tensor'>\n"
     ]
    }
   ],
   "source": [
    "# Embedding model\n",
    "embed_for_torch_path= \"data/04_feature/w2v_torch.pkl\"\n",
    "\n",
    "with open(str(proj_path)+ \"\\\\\" + embed_for_torch_path, 'rb') as f:\n",
    "    embed_for_torch= pickle.load(f)\n",
    "    \n",
    "print(type(embed_for_torch))"
   ]
  },
  {
   "cell_type": "markdown",
   "metadata": {},
   "source": [
    "#### Load vocabulary"
   ]
  },
  {
   "cell_type": "code",
   "execution_count": 14,
   "metadata": {},
   "outputs": [
    {
     "name": "stdout",
     "output_type": "stream",
     "text": [
      "<class 'dict'>\n"
     ]
    }
   ],
   "source": [
    "word_ind_dict_path= \"data/04_feature/voc.pkl\"\n",
    "\n",
    "with open(str(proj_path)+ \"\\\\\" + word_ind_dict_path, 'rb') as f:\n",
    "    word_ind_dict= pickle.load(f)\n",
    "    \n",
    "print(type(word_ind_dict))"
   ]
  },
  {
   "cell_type": "markdown",
   "metadata": {},
   "source": [
    "#### Load model"
   ]
  },
  {
   "cell_type": "code",
   "execution_count": 15,
   "metadata": {},
   "outputs": [],
   "source": [
    "# Params\n",
    "params_models = {\"wv\": embed_for_torch,\"no_words\": 67,\"embedding_dim\":200, \"nb_filter\":200\n",
    "                 , \"height_filter\":tuple([1, 2, 3, 4, 5]), \"output_dim\":2, \"dropout\":0.8, \"padded\":True}"
   ]
  },
  {
   "cell_type": "code",
   "execution_count": 16,
   "metadata": {},
   "outputs": [
    {
     "name": "stdout",
     "output_type": "stream",
     "text": [
      "<class 'collections.OrderedDict'>\n"
     ]
    }
   ],
   "source": [
    "# Model dict\n",
    "embed_cnn_model_for_save_path= \"data/06_models/embed_cnn/embed_cnn_classifier/embed_cnn.pt\"\n",
    "\n",
    "with open(str(proj_path)+ \"\\\\\" + embed_cnn_model_for_save_path, 'rb') as f:\n",
    "    embed_cnn_model_for_save= pickle.load(f)\n",
    "    \n",
    "print(type(embed_cnn_model_for_save))"
   ]
  },
  {
   "cell_type": "code",
   "execution_count": 17,
   "metadata": {},
   "outputs": [
    {
     "data": {
      "text/plain": [
       "classifier3F(\n",
       "  (before_conv): Sequential(\n",
       "    (conv1_conv_1): Conv2d(1, 200, kernel_size=(1, 200), stride=(1, 1))\n",
       "    (conv1_conv_2): Conv2d(1, 200, kernel_size=(2, 200), stride=(1, 1))\n",
       "    (conv1_conv_3): Conv2d(1, 200, kernel_size=(3, 200), stride=(1, 1))\n",
       "    (conv1_conv_4): Conv2d(1, 200, kernel_size=(4, 200), stride=(1, 1))\n",
       "    (conv1_conv_5): Conv2d(1, 200, kernel_size=(5, 200), stride=(1, 1))\n",
       "    (conv1_relu): ReLU()\n",
       "  )\n",
       "  (pool): Sequential(\n",
       "    (conv1_maxpool): Sequential(\n",
       "      (0): MaxPool1d(kernel_size=67, stride=1, padding=0, dilation=1, ceil_mode=False)\n",
       "    )\n",
       "  )\n",
       "  (after_conv): Sequential(\n",
       "    (dp): Dropout(p=0.8, inplace=False)\n",
       "    (fc): Linear(in_features=1000, out_features=2, bias=True)\n",
       "    (sm): Softmax(dim=1)\n",
       "  )\n",
       "  (embedding): Embedding(155564, 200)\n",
       "  (conv1_conv): ModuleList(\n",
       "    (0): Conv2d(1, 200, kernel_size=(1, 200), stride=(1, 1))\n",
       "    (1): Conv2d(1, 200, kernel_size=(2, 200), stride=(1, 1))\n",
       "    (2): Conv2d(1, 200, kernel_size=(3, 200), stride=(1, 1))\n",
       "    (3): Conv2d(1, 200, kernel_size=(4, 200), stride=(1, 1))\n",
       "    (4): Conv2d(1, 200, kernel_size=(5, 200), stride=(1, 1))\n",
       "  )\n",
       "  (conv1_relu): ReLU()\n",
       "  (conv1_maxpool): Sequential(\n",
       "    (0): MaxPool1d(kernel_size=67, stride=1, padding=0, dilation=1, ceil_mode=False)\n",
       "  )\n",
       "  (fc): Linear(in_features=1000, out_features=2, bias=True)\n",
       "  (sm): Softmax(dim=1)\n",
       "  (dp): Dropout(p=0.8, inplace=False)\n",
       ")"
      ]
     },
     "execution_count": 17,
     "metadata": {},
     "output_type": "execute_result"
    }
   ],
   "source": [
    "model = classifier3F(**params_models)\n",
    "\n",
    "model.load_state_dict(embed_cnn_model_for_save)\n",
    "model.eval()"
   ]
  },
  {
   "cell_type": "code",
   "execution_count": 18,
   "metadata": {},
   "outputs": [],
   "source": [
    "pred_test = []\n",
    "lab = []\n",
    "reviews= []\n",
    "\n",
    "with torch.no_grad():\n",
    "    for review, label in test_iterator_cnn_embed:\n",
    "        pred_test.append(model(review))\n",
    "        lab.append(label.float())\n",
    "        \n",
    "pred_test = torch.cat(pred_test)\n",
    "lab = torch.cat(lab)"
   ]
  },
  {
   "cell_type": "code",
   "execution_count": 19,
   "metadata": {},
   "outputs": [],
   "source": [
    "# Append prediction to df\n",
    "results[\"embed_cnn_proba_1\"]= pred_test.cpu()[:,1]"
   ]
  },
  {
   "cell_type": "markdown",
   "metadata": {},
   "source": [
    "### BiLSTM CNN "
   ]
  },
  {
   "cell_type": "markdown",
   "metadata": {},
   "source": [
    "#### Load embedding"
   ]
  },
  {
   "cell_type": "code",
   "execution_count": 20,
   "metadata": {},
   "outputs": [
    {
     "name": "stdout",
     "output_type": "stream",
     "text": [
      "<class 'numpy.ndarray'>\n"
     ]
    }
   ],
   "source": [
    "#\n",
    "embed_matrix_path= \"data/02_intermediate/bilstm_cnn/embed_matrix.pkl\"\n",
    "\n",
    "with open(str(proj_path)+ \"\\\\\" + embed_matrix_path, 'rb') as f:\n",
    "    embed_matrix= pickle.load(f)\n",
    "    \n",
    "print(type(embed_matrix))"
   ]
  },
  {
   "cell_type": "markdown",
   "metadata": {},
   "source": [
    "#### Load Test Loader"
   ]
  },
  {
   "cell_type": "code",
   "execution_count": 21,
   "metadata": {},
   "outputs": [
    {
     "name": "stdout",
     "output_type": "stream",
     "text": [
      "<class 'torch.utils.data.dataloader.DataLoader'>\n"
     ]
    }
   ],
   "source": [
    "#\n",
    "test_batch_bilstm_path= \"data/02_intermediate/test_iterator_cnn_bilstm.pkl\"\n",
    "\n",
    "with open(str(proj_path)+ \"\\\\\" + test_batch_bilstm_path, 'rb') as f:\n",
    "    test_batch_bilstm= pickle.load(f)\n",
    "    \n",
    "print(type(test_batch_bilstm))"
   ]
  },
  {
   "cell_type": "markdown",
   "metadata": {},
   "source": [
    "#### Load Model"
   ]
  },
  {
   "cell_type": "code",
   "execution_count": 22,
   "metadata": {},
   "outputs": [],
   "source": [
    "#BiLSTM + CNN\n",
    "num_epochs=  50\n",
    "batch_size= 32\n",
    "patience= 5\n",
    "lr= 0.001\n",
    "input_dim= 200\n",
    "hidden_dim= 128\n",
    "layer_dim= 2\n",
    "feature_size= 256\n",
    "output_dim= 2\n",
    "kernel_size= 3\n",
    "dropout_rate= 0.5\n",
    "sentence_size= 67\n",
    "padded= True"
   ]
  },
  {
   "cell_type": "code",
   "execution_count": 23,
   "metadata": {},
   "outputs": [
    {
     "name": "stdout",
     "output_type": "stream",
     "text": [
      "<class 'collections.OrderedDict'>\n"
     ]
    }
   ],
   "source": [
    "#\n",
    "bilstm_cnn_model_for_save_path= \"data/06_models/bilstm_cnn/bilstm_cnn_classifier/bilstm_cnn.pt\"\n",
    "\n",
    "with open(str(proj_path)+ \"\\\\\" + bilstm_cnn_model_for_save_path, 'rb') as f:\n",
    "    bilstm_cnn_model_for_save= pickle.load(f)\n",
    "    \n",
    "print(type(bilstm_cnn_model_for_save))"
   ]
  },
  {
   "cell_type": "code",
   "execution_count": 24,
   "metadata": {},
   "outputs": [
    {
     "data": {
      "text/plain": [
       "DataParallel(\n",
       "  (module): BilstmCnn(\n",
       "    (before_conv): Sequential(\n",
       "      (conv): Sequential(\n",
       "        (0): Conv1d(256, 256, kernel_size=(3,), stride=(1,))\n",
       "        (1): BatchNorm1d(256, eps=1e-05, momentum=0.1, affine=True, track_running_stats=True)\n",
       "        (2): ReLU()\n",
       "      )\n",
       "    )\n",
       "    (pool): Sequential(\n",
       "      (maxpool): MaxPool1d(kernel_size=2, stride=2, padding=0, dilation=1, ceil_mode=False)\n",
       "    )\n",
       "    (after_conv): Sequential(\n",
       "      (fc): Linear(in_features=8448, out_features=2, bias=True)\n",
       "      (sm): Softmax(dim=1)\n",
       "    )\n",
       "    (embedding): Embedding(144214, 200, padding_idx=0)\n",
       "    (LSTM): LSTM(200, 128, num_layers=2, dropout=0.5, bidirectional=True)\n",
       "    (convLayer): Sequential(\n",
       "      (0): Conv1d(256, 256, kernel_size=(3,), stride=(1,))\n",
       "      (1): BatchNorm1d(256, eps=1e-05, momentum=0.1, affine=True, track_running_stats=True)\n",
       "      (2): ReLU()\n",
       "    )\n",
       "    (maxpool): MaxPool1d(kernel_size=2, stride=2, padding=0, dilation=1, ceil_mode=False)\n",
       "    (fc): Linear(in_features=8448, out_features=2, bias=True)\n",
       "    (softmax): Softmax(dim=1)\n",
       "  )\n",
       ")"
      ]
     },
     "execution_count": 24,
     "metadata": {},
     "output_type": "execute_result"
    }
   ],
   "source": [
    "model = BilstmCnn(embed_matrix, sentence_size, input_dim, hidden_dim\n",
    "                  , layer_dim, output_dim, feature_size, kernel_size, dropout_rate, padded)\n",
    "\n",
    "if cnn_cuda_allow:\n",
    "    model = torch.nn.DataParallel(model).cuda()\n",
    "else:\n",
    "    model = torch.nn.DataParallel(model)\n",
    "\n",
    "model.load_state_dict(bilstm_cnn_model_for_save)\n",
    "model.eval()"
   ]
  },
  {
   "cell_type": "code",
   "execution_count": 25,
   "metadata": {},
   "outputs": [],
   "source": [
    "pred_test = []\n",
    "lab = []\n",
    "reviews= []\n",
    "\n",
    "with torch.no_grad():\n",
    "    for review, label in test_batch_bilstm:\n",
    "        test_reviews = review.to(torch.int64)\n",
    "#         test_labels = label.to(torch.int64)\n",
    "        \n",
    "        pred_test.append(model(test_reviews))\n",
    "        lab.append(label.float())\n",
    "        \n",
    "pred_test = torch.cat(pred_test)\n",
    "lab = torch.cat(lab)"
   ]
  },
  {
   "cell_type": "code",
   "execution_count": 26,
   "metadata": {},
   "outputs": [],
   "source": [
    "# Append prediction to df\n",
    "results[\"bilstm_cnn_proba_1\"]= pred_test.cpu()[:,1]"
   ]
  },
  {
   "cell_type": "code",
   "execution_count": 30,
   "metadata": {},
   "outputs": [
    {
     "data": {
      "text/html": [
       "<div>\n",
       "<style scoped>\n",
       "    .dataframe tbody tr th:only-of-type {\n",
       "        vertical-align: middle;\n",
       "    }\n",
       "\n",
       "    .dataframe tbody tr th {\n",
       "        vertical-align: top;\n",
       "    }\n",
       "\n",
       "    .dataframe thead th {\n",
       "        text-align: right;\n",
       "    }\n",
       "</style>\n",
       "<table border=\"1\" class=\"dataframe\">\n",
       "  <thead>\n",
       "    <tr style=\"text-align: right;\">\n",
       "      <th></th>\n",
       "      <th>review</th>\n",
       "      <th>label</th>\n",
       "      <th>cnn_char_proba_1</th>\n",
       "      <th>embed_cnn_proba_1</th>\n",
       "      <th>bilstm_cnn_proba_1</th>\n",
       "    </tr>\n",
       "  </thead>\n",
       "  <tbody>\n",
       "    <tr>\n",
       "      <th>0</th>\n",
       "      <td>Magnifique épopée, une belle histoire, touchan...</td>\n",
       "      <td>1.0</td>\n",
       "      <td>0.998517</td>\n",
       "      <td>0.969997</td>\n",
       "      <td>0.999961</td>\n",
       "    </tr>\n",
       "    <tr>\n",
       "      <th>1</th>\n",
       "      <td>Je n'ai pas aimé mais pourtant je lui mets 2 é...</td>\n",
       "      <td>0.0</td>\n",
       "      <td>0.029711</td>\n",
       "      <td>0.048560</td>\n",
       "      <td>0.487076</td>\n",
       "    </tr>\n",
       "    <tr>\n",
       "      <th>2</th>\n",
       "      <td>Un dessin animé qui brille par sa féerie et se...</td>\n",
       "      <td>1.0</td>\n",
       "      <td>0.926308</td>\n",
       "      <td>0.504477</td>\n",
       "      <td>0.695094</td>\n",
       "    </tr>\n",
       "    <tr>\n",
       "      <th>3</th>\n",
       "      <td>Si c'est là le renouveau du cinéma français, c...</td>\n",
       "      <td>0.0</td>\n",
       "      <td>0.017137</td>\n",
       "      <td>0.260582</td>\n",
       "      <td>0.021623</td>\n",
       "    </tr>\n",
       "    <tr>\n",
       "      <th>4</th>\n",
       "      <td>Et pourtant on s’en Doutait !Second volet très...</td>\n",
       "      <td>0.0</td>\n",
       "      <td>0.001211</td>\n",
       "      <td>0.007590</td>\n",
       "      <td>0.000310</td>\n",
       "    </tr>\n",
       "    <tr>\n",
       "      <th>5</th>\n",
       "      <td>Vous reprendrez bien un peu d'été ? Ce film je...</td>\n",
       "      <td>1.0</td>\n",
       "      <td>0.987802</td>\n",
       "      <td>0.625502</td>\n",
       "      <td>0.593012</td>\n",
       "    </tr>\n",
       "    <tr>\n",
       "      <th>6</th>\n",
       "      <td>Bon c'est pas un grand film mais on passe un b...</td>\n",
       "      <td>1.0</td>\n",
       "      <td>0.956251</td>\n",
       "      <td>0.756881</td>\n",
       "      <td>0.922894</td>\n",
       "    </tr>\n",
       "    <tr>\n",
       "      <th>7</th>\n",
       "      <td>Terrible histoire que ces êtres sans amour, ce...</td>\n",
       "      <td>1.0</td>\n",
       "      <td>0.717530</td>\n",
       "      <td>0.916339</td>\n",
       "      <td>0.758737</td>\n",
       "    </tr>\n",
       "    <tr>\n",
       "      <th>8</th>\n",
       "      <td>Un très joli film, qui ressemble à un téléfilm...</td>\n",
       "      <td>1.0</td>\n",
       "      <td>0.999261</td>\n",
       "      <td>0.988164</td>\n",
       "      <td>0.999429</td>\n",
       "    </tr>\n",
       "    <tr>\n",
       "      <th>9</th>\n",
       "      <td>Mais comment certaines personnes ont pus lui m...</td>\n",
       "      <td>0.0</td>\n",
       "      <td>0.001988</td>\n",
       "      <td>0.102986</td>\n",
       "      <td>0.016294</td>\n",
       "    </tr>\n",
       "    <tr>\n",
       "      <th>10</th>\n",
       "      <td>LE film de mon enfance , il a un peu vieilli m...</td>\n",
       "      <td>1.0</td>\n",
       "      <td>0.986891</td>\n",
       "      <td>0.979419</td>\n",
       "      <td>0.998591</td>\n",
       "    </tr>\n",
       "    <tr>\n",
       "      <th>11</th>\n",
       "      <td>La Vie de David Gale est vraiment un excellent...</td>\n",
       "      <td>1.0</td>\n",
       "      <td>1.000000</td>\n",
       "      <td>0.998623</td>\n",
       "      <td>1.000000</td>\n",
       "    </tr>\n",
       "    <tr>\n",
       "      <th>12</th>\n",
       "      <td>On ne comprend que guère l'espace et le temps ...</td>\n",
       "      <td>0.0</td>\n",
       "      <td>0.905219</td>\n",
       "      <td>0.526390</td>\n",
       "      <td>0.027164</td>\n",
       "    </tr>\n",
       "    <tr>\n",
       "      <th>13</th>\n",
       "      <td>Film rare. Les acteurs sont formidables, ils j...</td>\n",
       "      <td>1.0</td>\n",
       "      <td>0.998167</td>\n",
       "      <td>0.956168</td>\n",
       "      <td>0.997508</td>\n",
       "    </tr>\n",
       "    <tr>\n",
       "      <th>14</th>\n",
       "      <td>Je ne m'en souviens plus mais j'ai la vague im...</td>\n",
       "      <td>0.0</td>\n",
       "      <td>0.133832</td>\n",
       "      <td>0.278298</td>\n",
       "      <td>0.004198</td>\n",
       "    </tr>\n",
       "    <tr>\n",
       "      <th>15</th>\n",
       "      <td>un tres mauvais documentaire pro cannabis, qui...</td>\n",
       "      <td>0.0</td>\n",
       "      <td>0.010237</td>\n",
       "      <td>0.075957</td>\n",
       "      <td>0.001567</td>\n",
       "    </tr>\n",
       "    <tr>\n",
       "      <th>16</th>\n",
       "      <td>Eli Roth est un réalisateur intéressant et red...</td>\n",
       "      <td>1.0</td>\n",
       "      <td>0.863742</td>\n",
       "      <td>0.652936</td>\n",
       "      <td>0.921463</td>\n",
       "    </tr>\n",
       "    <tr>\n",
       "      <th>17</th>\n",
       "      <td>Starship Troopers continue sa descente aux enf...</td>\n",
       "      <td>0.0</td>\n",
       "      <td>0.601345</td>\n",
       "      <td>0.193028</td>\n",
       "      <td>0.227483</td>\n",
       "    </tr>\n",
       "    <tr>\n",
       "      <th>18</th>\n",
       "      <td>Le récit d'une fable où le sort d'un éléphant,...</td>\n",
       "      <td>1.0</td>\n",
       "      <td>0.977597</td>\n",
       "      <td>0.801139</td>\n",
       "      <td>0.849314</td>\n",
       "    </tr>\n",
       "    <tr>\n",
       "      <th>19</th>\n",
       "      <td>(...) chaque petite lueur d’espoir engendrée p...</td>\n",
       "      <td>0.0</td>\n",
       "      <td>0.735435</td>\n",
       "      <td>0.424065</td>\n",
       "      <td>0.134625</td>\n",
       "    </tr>\n",
       "  </tbody>\n",
       "</table>\n",
       "</div>"
      ],
      "text/plain": [
       "                                               review  label  \\\n",
       "0   Magnifique épopée, une belle histoire, touchan...    1.0   \n",
       "1   Je n'ai pas aimé mais pourtant je lui mets 2 é...    0.0   \n",
       "2   Un dessin animé qui brille par sa féerie et se...    1.0   \n",
       "3   Si c'est là le renouveau du cinéma français, c...    0.0   \n",
       "4   Et pourtant on s’en Doutait !Second volet très...    0.0   \n",
       "5   Vous reprendrez bien un peu d'été ? Ce film je...    1.0   \n",
       "6   Bon c'est pas un grand film mais on passe un b...    1.0   \n",
       "7   Terrible histoire que ces êtres sans amour, ce...    1.0   \n",
       "8   Un très joli film, qui ressemble à un téléfilm...    1.0   \n",
       "9   Mais comment certaines personnes ont pus lui m...    0.0   \n",
       "10  LE film de mon enfance , il a un peu vieilli m...    1.0   \n",
       "11  La Vie de David Gale est vraiment un excellent...    1.0   \n",
       "12  On ne comprend que guère l'espace et le temps ...    0.0   \n",
       "13  Film rare. Les acteurs sont formidables, ils j...    1.0   \n",
       "14  Je ne m'en souviens plus mais j'ai la vague im...    0.0   \n",
       "15  un tres mauvais documentaire pro cannabis, qui...    0.0   \n",
       "16  Eli Roth est un réalisateur intéressant et red...    1.0   \n",
       "17  Starship Troopers continue sa descente aux enf...    0.0   \n",
       "18  Le récit d'une fable où le sort d'un éléphant,...    1.0   \n",
       "19  (...) chaque petite lueur d’espoir engendrée p...    0.0   \n",
       "\n",
       "    cnn_char_proba_1  embed_cnn_proba_1  bilstm_cnn_proba_1  \n",
       "0           0.998517           0.969997            0.999961  \n",
       "1           0.029711           0.048560            0.487076  \n",
       "2           0.926308           0.504477            0.695094  \n",
       "3           0.017137           0.260582            0.021623  \n",
       "4           0.001211           0.007590            0.000310  \n",
       "5           0.987802           0.625502            0.593012  \n",
       "6           0.956251           0.756881            0.922894  \n",
       "7           0.717530           0.916339            0.758737  \n",
       "8           0.999261           0.988164            0.999429  \n",
       "9           0.001988           0.102986            0.016294  \n",
       "10          0.986891           0.979419            0.998591  \n",
       "11          1.000000           0.998623            1.000000  \n",
       "12          0.905219           0.526390            0.027164  \n",
       "13          0.998167           0.956168            0.997508  \n",
       "14          0.133832           0.278298            0.004198  \n",
       "15          0.010237           0.075957            0.001567  \n",
       "16          0.863742           0.652936            0.921463  \n",
       "17          0.601345           0.193028            0.227483  \n",
       "18          0.977597           0.801139            0.849314  \n",
       "19          0.735435           0.424065            0.134625  "
      ]
     },
     "execution_count": 30,
     "metadata": {},
     "output_type": "execute_result"
    }
   ],
   "source": [
    "results.head(20)"
   ]
  },
  {
   "cell_type": "code",
   "execution_count": 28,
   "metadata": {},
   "outputs": [
    {
     "data": {
      "text/html": [
       "<div>\n",
       "<style scoped>\n",
       "    .dataframe tbody tr th:only-of-type {\n",
       "        vertical-align: middle;\n",
       "    }\n",
       "\n",
       "    .dataframe tbody tr th {\n",
       "        vertical-align: top;\n",
       "    }\n",
       "\n",
       "    .dataframe thead th {\n",
       "        text-align: right;\n",
       "    }\n",
       "</style>\n",
       "<table border=\"1\" class=\"dataframe\">\n",
       "  <thead>\n",
       "    <tr style=\"text-align: right;\">\n",
       "      <th></th>\n",
       "      <th>review</th>\n",
       "      <th>label</th>\n",
       "      <th>cnn_char_proba_1</th>\n",
       "      <th>embed_cnn_proba_1</th>\n",
       "      <th>bilstm_cnn_proba_1</th>\n",
       "    </tr>\n",
       "  </thead>\n",
       "  <tbody>\n",
       "    <tr>\n",
       "      <th>0</th>\n",
       "      <td>Magnifique épopée, une belle histoire, touchan...</td>\n",
       "      <td>1.0</td>\n",
       "      <td>0.998517</td>\n",
       "      <td>0.969997</td>\n",
       "      <td>0.999961</td>\n",
       "    </tr>\n",
       "    <tr>\n",
       "      <th>1</th>\n",
       "      <td>Je n'ai pas aimé mais pourtant je lui mets 2 é...</td>\n",
       "      <td>0.0</td>\n",
       "      <td>0.029711</td>\n",
       "      <td>0.048560</td>\n",
       "      <td>0.487076</td>\n",
       "    </tr>\n",
       "    <tr>\n",
       "      <th>2</th>\n",
       "      <td>Un dessin animé qui brille par sa féerie et se...</td>\n",
       "      <td>1.0</td>\n",
       "      <td>0.926308</td>\n",
       "      <td>0.504477</td>\n",
       "      <td>0.695094</td>\n",
       "    </tr>\n",
       "    <tr>\n",
       "      <th>3</th>\n",
       "      <td>Si c'est là le renouveau du cinéma français, c...</td>\n",
       "      <td>0.0</td>\n",
       "      <td>0.017137</td>\n",
       "      <td>0.260582</td>\n",
       "      <td>0.021623</td>\n",
       "    </tr>\n",
       "    <tr>\n",
       "      <th>4</th>\n",
       "      <td>Et pourtant on s’en Doutait !Second volet très...</td>\n",
       "      <td>0.0</td>\n",
       "      <td>0.001211</td>\n",
       "      <td>0.007590</td>\n",
       "      <td>0.000310</td>\n",
       "    </tr>\n",
       "  </tbody>\n",
       "</table>\n",
       "</div>"
      ],
      "text/plain": [
       "                                              review  label  cnn_char_proba_1  \\\n",
       "0  Magnifique épopée, une belle histoire, touchan...    1.0          0.998517   \n",
       "1  Je n'ai pas aimé mais pourtant je lui mets 2 é...    0.0          0.029711   \n",
       "2  Un dessin animé qui brille par sa féerie et se...    1.0          0.926308   \n",
       "3  Si c'est là le renouveau du cinéma français, c...    0.0          0.017137   \n",
       "4  Et pourtant on s’en Doutait !Second volet très...    0.0          0.001211   \n",
       "\n",
       "   embed_cnn_proba_1  bilstm_cnn_proba_1  \n",
       "0           0.969997            0.999961  \n",
       "1           0.048560            0.487076  \n",
       "2           0.504477            0.695094  \n",
       "3           0.260582            0.021623  \n",
       "4           0.007590            0.000310  "
      ]
     },
     "execution_count": 28,
     "metadata": {},
     "output_type": "execute_result"
    }
   ],
   "source": [
    "results.head()"
   ]
  },
  {
   "cell_type": "code",
   "execution_count": 31,
   "metadata": {},
   "outputs": [
    {
     "data": {
      "text/plain": [
       "20000"
      ]
     },
     "execution_count": 31,
     "metadata": {},
     "output_type": "execute_result"
    }
   ],
   "source": [
    "a= lab.cpu().numpy()\n",
    "b= results[\"label\"].values\n",
    "sum(b == a) # check"
   ]
  },
  {
   "cell_type": "code",
   "execution_count": 32,
   "metadata": {},
   "outputs": [],
   "source": [
    "results.to_csv(\"all_model_prediction.csv\", index= False)"
   ]
  }
 ],
 "metadata": {
  "kernelspec": {
   "display_name": "Python 3",
   "language": "python",
   "name": "python3"
  },
  "language_info": {
   "codemirror_mode": {
    "name": "ipython",
    "version": 3
   },
   "file_extension": ".py",
   "mimetype": "text/x-python",
   "name": "python",
   "nbconvert_exporter": "python",
   "pygments_lexer": "ipython3",
   "version": "3.8.5"
  }
 },
 "nbformat": 4,
 "nbformat_minor": 4
}
