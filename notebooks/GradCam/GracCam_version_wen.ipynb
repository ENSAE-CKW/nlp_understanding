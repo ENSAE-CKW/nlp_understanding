{
 "cells": [
  {
   "cell_type": "markdown",
   "metadata": {},
   "source": [
    "# Implémentation de Grad Cam"
   ]
  },
  {
   "cell_type": "markdown",
   "metadata": {},
   "source": [
    "## Packages et lecture du code"
   ]
  },
  {
   "cell_type": "markdown",
   "metadata": {},
   "source": [
    "** IMPORTANT : à changer si utilisation du CPU ou du GPU **"
   ]
  },
  {
   "cell_type": "code",
   "execution_count": 1,
   "metadata": {},
   "outputs": [
    {
     "name": "stdout",
     "output_type": "stream",
     "text": [
      "C:\\Users\\wenceslas\\Documents\\cours\\ENSAE\\2A\\Normal\\statapp\\nlp_understanding\n"
     ]
    }
   ],
   "source": [
    "from pathlib import Path\n",
    "\n",
    "current_dir = Path.cwd()  # this points to 'notebooks/' folder\n",
    "proj_path = current_dir.parent.parent \n",
    "print(proj_path)"
   ]
  },
  {
   "cell_type": "code",
   "execution_count": 2,
   "metadata": {},
   "outputs": [],
   "source": [
    "import torch\n",
    "import torch.nn as nn\n",
    "from torch.utils.data import Dataset, TensorDataset\n",
    "import pickle\n",
    "import pandas as pd\n",
    "from torch.autograd import Variable\n",
    "import numpy as np\n",
    "\n",
    "from src.deep_nlp.embed_cnn.embcnnmodel_gradcam import classifier3F"
   ]
  },
  {
   "cell_type": "code",
   "execution_count": 3,
   "metadata": {},
   "outputs": [],
   "source": [
    "device = torch.device('cpu')\n",
    "batch_size = 1"
   ]
  },
  {
   "cell_type": "markdown",
   "metadata": {},
   "source": [
    "### Lecture de la classe `classifier3F`"
   ]
  },
  {
   "cell_type": "code",
   "execution_count": 4,
   "metadata": {},
   "outputs": [],
   "source": [
    "import os\n",
    "path_cnn_model_class = os.path.join(proj_path,\"src\",\"deep_nlp\",\"embed_cnn\",\"embcnnmodel.py\")"
   ]
  },
  {
   "cell_type": "markdown",
   "metadata": {},
   "source": [
    "## Lecture des modèles déjà entraînés"
   ]
  },
  {
   "cell_type": "markdown",
   "metadata": {},
   "source": [
    "### Lecture des données"
   ]
  },
  {
   "cell_type": "code",
   "execution_count": 5,
   "metadata": {},
   "outputs": [],
   "source": [
    "path_dataset_train = os.path.join(proj_path,\"data\",\"02_intermediate\",\"allocine_train_inter.csv\")\n",
    "path_dataset_valid = os.path.join(proj_path,\"data\",\"02_intermediate\",\"allocine_valid_inter.csv\")\n",
    "path_dataset_test = os.path.join(proj_path,\"data\",\"02_intermediate\",\"allocine_test_inter.csv\")\n",
    "\n",
    "train_data = pd.read_csv(path_dataset_train, dtype = \"int64\")\n",
    "val_data = pd.read_csv(path_dataset_valid, dtype = \"int64\")\n",
    "test_data = pd.read_csv(path_dataset_test, dtype = \"int64\")\n",
    "test_data_copy= test_data.copy()\n",
    "\n",
    "train_tensor_x = torch.from_numpy(train_data.drop(columns=[\"label\"]).to_numpy()).to(device).long()\n",
    "train_tensor_y = torch.from_numpy(train_data[\"label\"].to_numpy()).to(device).long()\n",
    "\n",
    "val_tensor_x = torch.from_numpy(val_data.drop(columns=[\"label\"]).to_numpy()).to(device).long()\n",
    "val_tensor_y = torch.from_numpy(val_data[\"label\"].to_numpy()).to(device).long()\n",
    "\n",
    "test_tensor_x = torch.from_numpy(test_data.drop(columns=[\"label\"]).to_numpy()).to(device).long()\n",
    "test_tensor_y = torch.from_numpy(test_data[\"label\"].to_numpy()).to(device).long()\n",
    "\n",
    "train_data = TensorDataset(train_tensor_x,train_tensor_y)\n",
    "test_data = TensorDataset(test_tensor_x, test_tensor_y)\n",
    "valid_data = TensorDataset(val_tensor_x, val_tensor_y)\n",
    "\n",
    "train_load = torch.utils.data.DataLoader(dataset=train_data,\n",
    "                            batch_size=batch_size,\n",
    "                            shuffle=False)\n",
    "val_load = torch.utils.data.DataLoader(dataset= valid_data,\n",
    "                            batch_size=batch_size,\n",
    "                            shuffle=False)\n",
    "test_load = torch.utils.data.DataLoader(dataset= test_data,\n",
    "                            batch_size=batch_size,\n",
    "                            shuffle=False)"
   ]
  },
  {
   "cell_type": "markdown",
   "metadata": {},
   "source": [
    "### Création d'un dictionnaire contenant le vocabulaire"
   ]
  },
  {
   "cell_type": "code",
   "execution_count": 6,
   "metadata": {},
   "outputs": [],
   "source": [
    "path_vocab = os.path.join(proj_path,\"data\",\"04_feature\",\"voc.pkl\")\n",
    "\n",
    "#Embedding reading\n",
    "with open(path_vocab, 'rb') as f:\n",
    "    vocab = pickle.load(f)   "
   ]
  },
  {
   "cell_type": "code",
   "execution_count": 7,
   "metadata": {},
   "outputs": [],
   "source": [
    "vocab_reverse = {y:x for x,y in vocab.items()}"
   ]
  },
  {
   "cell_type": "markdown",
   "metadata": {},
   "source": [
    "### Lecture de l'embedding (Word2vec French) sauvegardé"
   ]
  },
  {
   "cell_type": "code",
   "execution_count": 8,
   "metadata": {},
   "outputs": [],
   "source": [
    "path_embed_pytorch = os.path.join(proj_path,\"data\",\"04_feature\",\"w2v_torch.pkl\")\n",
    "\n",
    "#Embedding reading\n",
    "with open(path_embed_pytorch, 'rb') as f:\n",
    "    embed_for_torch = pickle.load(f)"
   ]
  },
  {
   "cell_type": "markdown",
   "metadata": {},
   "source": [
    "### Création d'un dictionnaire contenant les paramètres pour le modèle"
   ]
  },
  {
   "cell_type": "code",
   "execution_count": 9,
   "metadata": {},
   "outputs": [],
   "source": [
    "params_models = {\"wv\": embed_for_torch,\"no_words\": 67,\"embedding_dim\":200, \"nb_filter\":600\n",
    "                 , \"height_filter\":tuple([1, 2]), \"output_dim\":2, \"dropout\":0.6, \"padded\":True}"
   ]
  },
  {
   "cell_type": "markdown",
   "metadata": {},
   "source": [
    "### Lecture du modèle"
   ]
  },
  {
   "cell_type": "code",
   "execution_count": 10,
   "metadata": {},
   "outputs": [
    {
     "data": {
      "text/plain": [
       "classifier3F(\n",
       "  (before_conv): Sequential(\n",
       "    (conv1_conv_1): Conv2d(1, 600, kernel_size=(1, 200), stride=(1, 1))\n",
       "    (conv1_conv_2): Conv2d(1, 600, kernel_size=(2, 200), stride=(1, 1))\n",
       "    (conv1_relu): ReLU()\n",
       "  )\n",
       "  (pool): Sequential(\n",
       "    (conv1_maxpool): Sequential(\n",
       "      (0): MaxPool1d(kernel_size=67, stride=1, padding=0, dilation=1, ceil_mode=False)\n",
       "    )\n",
       "  )\n",
       "  (after_conv): Sequential(\n",
       "    (dp): Dropout(p=0.6, inplace=False)\n",
       "    (fc): Linear(in_features=1200, out_features=2, bias=True)\n",
       "    (sm): Softmax(dim=1)\n",
       "  )\n",
       "  (embedding): Embedding(155564, 200)\n",
       "  (conv1_conv): ModuleList(\n",
       "    (0): Conv2d(1, 600, kernel_size=(1, 200), stride=(1, 1))\n",
       "    (1): Conv2d(1, 600, kernel_size=(2, 200), stride=(1, 1))\n",
       "  )\n",
       "  (conv1_relu): ReLU()\n",
       "  (conv1_maxpool): Sequential(\n",
       "    (0): MaxPool1d(kernel_size=67, stride=1, padding=0, dilation=1, ceil_mode=False)\n",
       "  )\n",
       "  (fc): Linear(in_features=1200, out_features=2, bias=True)\n",
       "  (sm): Softmax(dim=1)\n",
       "  (dp): Dropout(p=0.6, inplace=False)\n",
       ")"
      ]
     },
     "execution_count": 10,
     "metadata": {},
     "output_type": "execute_result"
    }
   ],
   "source": [
    "path_trained_model = os.path.join(proj_path,\"data\",\"06_models\",\"embed_cnn\",\"embed_cnn_classifier\"\n",
    "                                  ,\"embed_cnn.pt\")\n",
    "\n",
    "#Embedding reading\n",
    "with open(path_trained_model, 'rb') as f:\n",
    "    model_weight = pickle.load(f)\n",
    "\n",
    "model = classifier3F(**params_models)\n",
    "\n",
    "model.load_state_dict(model_weight)\n",
    "model.eval()"
   ]
  },
  {
   "cell_type": "markdown",
   "metadata": {},
   "source": [
    "### Vérification"
   ]
  },
  {
   "cell_type": "code",
   "execution_count": 11,
   "metadata": {},
   "outputs": [],
   "source": [
    "# #Text test\n",
    "# # test_text,_ = next(iter(test_load))\n",
    "# # output_test= model(test_text)\n",
    "\n",
    "# model.get_heatmap(text= test_text\n",
    "#                 , num_class= 0\n",
    "#                 , dim= [0, 2]\n",
    "#                 , type_map= \"normalized\")"
   ]
  },
  {
   "cell_type": "code",
   "execution_count": 12,
   "metadata": {},
   "outputs": [],
   "source": [
    "pred_test = []\n",
    "lab = []\n",
    "\n",
    "with torch.no_grad():\n",
    "    for review,label in test_load:\n",
    "        pred_test.append(model(review))\n",
    "        lab.append(label.float())"
   ]
  },
  {
   "cell_type": "code",
   "execution_count": 77,
   "metadata": {},
   "outputs": [
    {
     "ename": "TypeError",
     "evalue": "expected Tensor as element 0 in argument 0, but got numpy.float32",
     "output_type": "error",
     "traceback": [
      "\u001b[1;31m---------------------------------------------------------------------------\u001b[0m",
      "\u001b[1;31mTypeError\u001b[0m                                 Traceback (most recent call last)",
      "\u001b[1;32m<ipython-input-77-14fdf842986a>\u001b[0m in \u001b[0;36m<module>\u001b[1;34m\u001b[0m\n\u001b[1;32m----> 1\u001b[1;33m \u001b[0mpred_test\u001b[0m \u001b[1;33m=\u001b[0m \u001b[0mtorch\u001b[0m\u001b[1;33m.\u001b[0m\u001b[0mcat\u001b[0m\u001b[1;33m(\u001b[0m\u001b[0mpred_test\u001b[0m\u001b[1;33m)\u001b[0m\u001b[1;33m.\u001b[0m\u001b[0mcpu\u001b[0m\u001b[1;33m(\u001b[0m\u001b[1;33m)\u001b[0m\u001b[1;33m\u001b[0m\u001b[1;33m\u001b[0m\u001b[0m\n\u001b[0m\u001b[0;32m      2\u001b[0m \u001b[0mlab\u001b[0m \u001b[1;33m=\u001b[0m \u001b[0mtorch\u001b[0m\u001b[1;33m.\u001b[0m\u001b[0mcat\u001b[0m\u001b[1;33m(\u001b[0m\u001b[0mlab\u001b[0m\u001b[1;33m)\u001b[0m\u001b[1;33m.\u001b[0m\u001b[0mcpu\u001b[0m\u001b[1;33m(\u001b[0m\u001b[1;33m)\u001b[0m\u001b[1;33m\u001b[0m\u001b[1;33m\u001b[0m\u001b[0m\n\u001b[0;32m      3\u001b[0m \u001b[1;31m#define metric\u001b[0m\u001b[1;33m\u001b[0m\u001b[1;33m\u001b[0m\u001b[1;33m\u001b[0m\u001b[0m\n\u001b[0;32m      4\u001b[0m \u001b[1;32mdef\u001b[0m \u001b[0mbinary_accuracy\u001b[0m\u001b[1;33m(\u001b[0m\u001b[0mpreds\u001b[0m\u001b[1;33m,\u001b[0m \u001b[0my\u001b[0m\u001b[1;33m)\u001b[0m\u001b[1;33m:\u001b[0m\u001b[1;33m\u001b[0m\u001b[1;33m\u001b[0m\u001b[0m\n\u001b[0;32m      5\u001b[0m     \u001b[1;31m#round predictions to the closest integer\u001b[0m\u001b[1;33m\u001b[0m\u001b[1;33m\u001b[0m\u001b[1;33m\u001b[0m\u001b[0m\n",
      "\u001b[1;31mTypeError\u001b[0m: expected Tensor as element 0 in argument 0, but got numpy.float32"
     ]
    }
   ],
   "source": [
    "pred_test = torch.cat(pred_test).cpu()\n",
    "lab = torch.cat(lab).cpu()\n",
    "#define metric\n",
    "def binary_accuracy(preds, y):\n",
    "    #round predictions to the closest integer\n",
    "    rounded_preds = torch.round(preds[:,1])    \n",
    "    correct = (rounded_preds == y).float() \n",
    "    acc = correct.sum() / len(correct)\n",
    "    return acc\n",
    "\n",
    "binary_accuracy(pred_test, lab.float())"
   ]
  },
  {
   "cell_type": "markdown",
   "metadata": {},
   "source": [
    "## GradCam"
   ]
  },
  {
   "cell_type": "markdown",
   "metadata": {},
   "source": [
    "### Création de la classe GradCam"
   ]
  },
  {
   "cell_type": "markdown",
   "metadata": {},
   "source": [
    "Pour l'instant, j'essaye d'implémenter GradCam uniquement pour le modèle Embedding + CNN. Je modifirai la classe plus tard pour qu'elle soit plus générale.\n",
    "Il faudra peut être utiliser `test = [element for element in model.modules()]`"
   ]
  },
  {
   "cell_type": "code",
   "execution_count": 14,
   "metadata": {
    "scrolled": true
   },
   "outputs": [
    {
     "name": "stdout",
     "output_type": "stream",
     "text": [
      "100\n",
      "200\n"
     ]
    },
    {
     "name": "stderr",
     "output_type": "stream",
     "text": [
      "C:\\Users\\wenceslas\\Documents\\cours\\ENSAE\\2A\\Normal\\statapp\\nlp_understanding\\src\\deep_nlp\\grad_cam\\model\\gradcam_base_model.py:105: RuntimeWarning: invalid value encountered in true_divide\n",
      "  heatmap /= max_heatmap_value\n"
     ]
    },
    {
     "name": "stdout",
     "output_type": "stream",
     "text": [
      "300\n",
      "400\n",
      "500\n",
      "600\n",
      "700\n",
      "800\n",
      "900\n",
      "1000\n",
      "1100\n",
      "1200\n",
      "1300\n",
      "1400\n",
      "1500\n",
      "1600\n",
      "1700\n",
      "1800\n",
      "1900\n",
      "2000\n",
      "2100\n",
      "2200\n",
      "2300\n",
      "2400\n",
      "2500\n",
      "2600\n",
      "2700\n",
      "2800\n",
      "2900\n",
      "3000\n",
      "3100\n",
      "3200\n",
      "3300\n",
      "3400\n",
      "3500\n",
      "3600\n",
      "3700\n",
      "3800\n",
      "3900\n",
      "4000\n",
      "4100\n",
      "4200\n",
      "4300\n",
      "4400\n",
      "4500\n",
      "4600\n",
      "4700\n",
      "4800\n",
      "4900\n",
      "5000\n",
      "5100\n",
      "5200\n",
      "5300\n",
      "5400\n",
      "5500\n",
      "5600\n",
      "5700\n",
      "5800\n",
      "5900\n",
      "6000\n",
      "6100\n",
      "6200\n",
      "6300\n",
      "6400\n",
      "6500\n",
      "6600\n",
      "6700\n",
      "6800\n",
      "6900\n",
      "7000\n",
      "7100\n",
      "7200\n",
      "7300\n",
      "7400\n",
      "7500\n",
      "7600\n",
      "7700\n",
      "7800\n",
      "7900\n",
      "8000\n",
      "8100\n",
      "8200\n",
      "8300\n",
      "8400\n",
      "8500\n",
      "8600\n",
      "8700\n",
      "8800\n",
      "8900\n",
      "9000\n",
      "9100\n",
      "9200\n",
      "9300\n",
      "9400\n",
      "9500\n",
      "9600\n",
      "9700\n",
      "9800\n",
      "9900\n",
      "10000\n",
      "10100\n",
      "10200\n",
      "10300\n",
      "10400\n",
      "10500\n",
      "10600\n",
      "10700\n",
      "10800\n",
      "10900\n",
      "11000\n",
      "11100\n",
      "11200\n",
      "11300\n",
      "11400\n",
      "11500\n",
      "11600\n",
      "11700\n",
      "11800\n",
      "11900\n",
      "12000\n",
      "12100\n",
      "12200\n",
      "12300\n",
      "12400\n",
      "12500\n",
      "12600\n",
      "12700\n",
      "12800\n",
      "12900\n",
      "13000\n",
      "13100\n",
      "13200\n",
      "13300\n",
      "13400\n",
      "13500\n",
      "13600\n",
      "13700\n",
      "13800\n",
      "13900\n",
      "14000\n",
      "14100\n",
      "14200\n",
      "14300\n",
      "14400\n",
      "14500\n",
      "14600\n",
      "14700\n",
      "14800\n",
      "14900\n",
      "15000\n",
      "15100\n",
      "15200\n",
      "15300\n",
      "15400\n",
      "15500\n",
      "15600\n",
      "15700\n",
      "15800\n",
      "15900\n",
      "16000\n",
      "16100\n",
      "16200\n",
      "16300\n",
      "16400\n",
      "16500\n",
      "16600\n",
      "16700\n",
      "16800\n",
      "16900\n",
      "17000\n",
      "17100\n",
      "17200\n",
      "17300\n",
      "17400\n",
      "17500\n",
      "17600\n",
      "17700\n",
      "17800\n",
      "17900\n",
      "18000\n",
      "18100\n",
      "18200\n",
      "18300\n",
      "18400\n",
      "18500\n",
      "18600\n",
      "18700\n",
      "18800\n",
      "18900\n",
      "19000\n",
      "19100\n",
      "19200\n",
      "19300\n",
      "19400\n",
      "19500\n",
      "19600\n",
      "19700\n",
      "19800\n",
      "19900\n",
      "20000\n",
      "Wall time: 15min 17s\n"
     ]
    }
   ],
   "source": [
    "%%time\n",
    "\n",
    "index_nothing= np.array([155563, 155562])\n",
    "seuil= 0.75\n",
    "class_explanation= 0\n",
    "\n",
    "pred_test= []\n",
    "lab = []\n",
    "results = []\n",
    "results_value= []\n",
    "i = 0\n",
    "\n",
    "heatmap_error= []\n",
    "\n",
    "model.eval()\n",
    "for review, label in test_load:\n",
    "    # Prediction / label\n",
    "    output= model(review)\n",
    "    lab.append(label.float())\n",
    "    \n",
    "    text_index= review.squeeze().numpy()\n",
    "    \n",
    "    explanations_class_one= model.get_heatmap(text= review\n",
    "                                    , num_class= class_explanation\n",
    "                                    , dim= [0, 2]\n",
    "                                    , type_map= \"max\")[-1]\n",
    "\n",
    "#     res = pd.DataFrame(\n",
    "#         {\"index\": text_index\n",
    "#         , \"explanations\": explanations_class_one\n",
    "#         })\n",
    "    \n",
    "#     res[\"word\"] = pd.Series([vocab_reverse.get(index, \"\") for index in text_index])\n",
    "#     res.sort_values(by='explanations', ascending=False, inplace = True)\n",
    "#     res= res[~res[\"index\"].isin(index_nothing)]\n",
    "    \n",
    "#     mots_expliquants = list(res[res[\"explanations\"] > seuil][\"word\"])\n",
    "#     explications_pour_plot= {\"mots_expli\": mots_expliquants\n",
    "#                              , \"prob\": output[0, 1].item()}\n",
    "    \n",
    "    ### test\n",
    "    word= np.array([vocab_reverse.get(index, \"\") for index in text_index])\n",
    "    # if index word is in the list whe dont want, we capture its index\n",
    "    selected_word_bool= np.in1d(text_index, index_nothing)\n",
    "    # Get index of word we want\n",
    "    selected_word_index= np.where(~selected_word_bool)[0]\n",
    "    \n",
    "    # Get the valeu and word from the index\n",
    "    selected_word= word[selected_word_index]\n",
    "    selected_explanation= explanations_class_one[selected_word_index]\n",
    "    \n",
    "    # Condition words selected by a threshold\n",
    "    best_word_explanation_index= np.where(selected_explanation >= seuil)[0]\n",
    "    best_word_explanation= selected_word[best_word_explanation_index]\n",
    "    best_explanation_value= selected_explanation[best_word_explanation_index]\n",
    "    \n",
    "    # Sort by the value (descending order)\n",
    "    sort_per_explanation_index= np.argsort(best_word_explanation)[::-1] # [::-1] to get the highest first\n",
    "    best_word_explanation= best_word_explanation[sort_per_explanation_index]\n",
    "    best_explanation_value= best_explanation_value[sort_per_explanation_index] # Useless but tasty boy\n",
    "    \n",
    "    \n",
    "    \n",
    "    explications_pour_plot= {\"mots_expli\": best_word_explanation\n",
    "                             , \"prob\": output[0, 1].item()}\n",
    "    \n",
    "    results.append([explications_pour_plot, label])\n",
    "    pred_test.append(output[:,1].detach().numpy()[0])\n",
    "    \n",
    "    \n",
    "#     if i == 1500:\n",
    "#         break\n",
    "    \n",
    "    i += 1\n",
    "    if i % 100 == 0:\n",
    "        print(i)"
   ]
  },
  {
   "cell_type": "code",
   "execution_count": 15,
   "metadata": {},
   "outputs": [],
   "source": [
    "# okok= os.path.join(proj_path,\"data\",\"01_raw\",\"allocine_test.csv\")\n",
    "# test_data_copy= pd.read_csv(okok)\n",
    "# error_heatmap= []\n",
    "# for j in range(len(results)):\n",
    "#     if results[j] == []:\n",
    "#         error_heatmap.append(j)\n",
    "#         print(test_data_copy[test_data_copy.index == j][\"review\"].values)"
   ]
  },
  {
   "cell_type": "code",
   "execution_count": 63,
   "metadata": {},
   "outputs": [],
   "source": [
    "mots_plus_75 = [element[0][\"mots_expli\"] for element in results if element[0][\"prob\"] > 0.75]\n",
    "mots_50_75 = [element[0][\"mots_expli\"] for element in results if (element[0][\"prob\"] > 0.5) & (element[0][\"prob\"] < 0.75)]\n",
    "mots_25_50 = [element[0][\"mots_expli\"] for element in results if (element[0][\"prob\"] > 0.25) & (element[0][\"prob\"] < 0.5)]\n",
    "mots_0_25 = [element[0][\"mots_expli\"] for element in results if (element[0][\"prob\"] < 0.25)]"
   ]
  },
  {
   "cell_type": "code",
   "execution_count": 64,
   "metadata": {},
   "outputs": [],
   "source": [
    "mots = [element[0][\"mots_expli\"] for element in results]\n",
    "prob = [element[0][\"prob\"] for element in results]"
   ]
  },
  {
   "cell_type": "code",
   "execution_count": 65,
   "metadata": {},
   "outputs": [],
   "source": [
    "#faire table ind pour les mots + prob puis faire une ACM"
   ]
  },
  {
   "cell_type": "code",
   "execution_count": 66,
   "metadata": {},
   "outputs": [],
   "source": [
    "import itertools\n",
    "mots_plus_75 = list(itertools.chain.from_iterable(mots_plus_75))\n",
    "mots_50_75 = list(itertools.chain.from_iterable(mots_50_75))\n",
    "mots_25_50 = list(itertools.chain.from_iterable(mots_25_50))\n",
    "mots_0_25 = list(itertools.chain.from_iterable(mots_0_25))"
   ]
  },
  {
   "cell_type": "code",
   "execution_count": 72,
   "metadata": {},
   "outputs": [
    {
     "data": {
      "image/png": "[encoded data removed]",
      "text/plain": [
       "<Figure size 576x360 with 1 Axes>"
      ]
     },
     "metadata": {},
     "output_type": "display_data"
    }
   ],
   "source": [
    "from collections import Counter\n",
    "\n",
    "def plot_barplot(list_of_token, num_to_display= 20, title= None):\n",
    "    w= dict(Counter(list_of_token).most_common(num_to_display))\n",
    "\n",
    "    fig, ax = plt.subplots(figsize= (8, 5))\n",
    "    ax.bar(w.keys(), w.values(), figure= None)\n",
    "\n",
    "    ax.set_title(title)\n",
    "    ax.xaxis.set_tick_params(rotation= 70)\n",
    "    plt.show()\n",
    "    pass\n",
    "\n",
    "plot_barplot(mots_plus_75)"
   ]
  },
  {
   "cell_type": "code",
   "execution_count": 79,
   "metadata": {},
   "outputs": [
    {
     "data": {
      "image/png": "[encoded data removed]",
      "text/plain": [
       "<Figure size 576x360 with 1 Axes>"
      ]
     },
     "metadata": {},
     "output_type": "display_data"
    }
   ],
   "source": [
    "# mots_0_25_df = pd.DataFrame.from_dict(Counter(mots_0_25),orient=\"index\")\n",
    "\n",
    "# mots_0_25_df = mots_0_25_df.sort_values(by=0, ascending = False)\n",
    "\n",
    "# mots_0_25_df.head(30).plot.bar(figure= None)\n",
    "\n",
    "plot_barplot(mots_25_50)"
   ]
  },
  {
   "cell_type": "code",
   "execution_count": null,
   "metadata": {},
   "outputs": [],
   "source": [
    "# Import packages\n",
    "import matplotlib.pyplot as plt\n",
    "%matplotlib inline\n",
    "# Define a function to plot word cloud\n",
    "def plot_cloud(wordcloud):\n",
    "    # Set figure size\n",
    "    plt.figure(figsize=(40, 30))\n",
    "    # Display image\n",
    "    plt.imshow(wordcloud) \n",
    "    # No axis details\n",
    "    plt.axis(\"off\");"
   ]
  },
  {
   "cell_type": "markdown",
   "metadata": {},
   "source": [
    "Nuage de mots pour les prédictions à plus de 75%"
   ]
  },
  {
   "cell_type": "code",
   "execution_count": null,
   "metadata": {},
   "outputs": [],
   "source": [
    "# Import package\n",
    "from wordcloud import WordCloud, STOPWORDS\n",
    "# Generate word cloud\n",
    "wordcloud = WordCloud(width = 3000, height = 2000, random_state=1, background_color='salmon', colormap='Pastel1', collocations=False, stopwords = STOPWORDS).generate(\" \".join(mots_0_25))\n",
    "# Plot\n",
    "plot_cloud(wordcloud)"
   ]
  },
  {
   "cell_type": "code",
   "execution_count": null,
   "metadata": {},
   "outputs": [],
   "source": [
    "wordcloud2 = WordCloud(width = 3000, height = 2000, random_state=1,background_color='salmon', colormap='Pastel1', collocations=False, stopwords = STOPWORDS).generate(\" \".join(mots_25_50))\n",
    "# Plot\n",
    "plot_cloud(wordcloud2)"
   ]
  }
 ],
 "metadata": {
  "kernelspec": {
   "display_name": "Python 3",
   "language": "python",
   "name": "python3"
  },
  "language_info": {
   "codemirror_mode": {
    "name": "ipython",
    "version": 3
   },
   "file_extension": ".py",
   "mimetype": "text/x-python",
   "name": "python",
   "nbconvert_exporter": "python",
   "pygments_lexer": "ipython3",
   "version": "3.8.5"
  }
 },
 "nbformat": 4,
 "nbformat_minor": 4
}
