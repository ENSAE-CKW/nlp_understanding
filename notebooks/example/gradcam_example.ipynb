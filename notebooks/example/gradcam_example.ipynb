{
 "cells": [
  {
   "cell_type": "markdown",
   "metadata": {
    "collapsed": true
   },
   "source": [
    "# GradCAM example for 3 models"
   ]
  },
  {
   "cell_type": "code",
   "execution_count": 10,
   "metadata": {},
   "outputs": [
    {
     "name": "stdout",
     "output_type": "stream",
     "text": [
      "C:\\Users\\wenceslas\\Documents\\cours\\ENSAE\\2A\\Normal\\statapp\\nlp_understanding\n"
     ]
    }
   ],
   "source": [
    "from pathlib import Path\n",
    "\n",
    "current_dir = Path.cwd()  # this points to 'notebooks/' folder\n",
    "proj_path = current_dir.parent.parent \n",
    "print(proj_path)"
   ]
  },
  {
   "cell_type": "code",
   "execution_count": 106,
   "metadata": {},
   "outputs": [],
   "source": [
    "import pandas as pd\n",
    "import numpy as np\n",
    "import itertools\n",
    "import torch\n",
    "from torch.utils.data import DataLoader\n",
    "import pickle\n",
    "\n",
    "from deep_nlp.cnncharclassifier import CNNCharClassifier, charToTensor\n",
    "from src.deep_nlp.embed_cnn.embcnnmodel_gradcam import classifier3F\n",
    "from deep_nlp.bilstm_cnn.bilstmcnn_gradcam import BilstmCnn\n",
    "from deep_nlp.grad_cam.utils.letter import rebuild_text, prepare_heatmap, LetterToToken\n",
    "from deep_nlp.grad_cam.plot import plot_bar_heatmap, plot_text_and_heatmap"
   ]
  },
  {
   "cell_type": "markdown",
   "metadata": {},
   "source": [
    "## CNN Character level"
   ]
  },
  {
   "cell_type": "code",
   "execution_count": 12,
   "metadata": {},
   "outputs": [],
   "source": [
    "# params\n",
    "cnn_sequence_len= 1014\n",
    "cnn_feature_num= 87\n",
    "cnn_feature_size= 256\n",
    "cnn_kernel_one= 7\n",
    "cnn_kernel_two= 3\n",
    "cnn_stride_one= 1\n",
    "cnn_stride_two= 3\n",
    "cnn_output_linear= 1024\n",
    "cnn_num_class= 2\n",
    "cnn_dropout= 0.5\n",
    "cnn_cuda_allow= True"
   ]
  },
  {
   "cell_type": "code",
   "execution_count": 13,
   "metadata": {},
   "outputs": [],
   "source": [
    "# Load model\n",
    "model_path_saved= \"data/06_models/cnn_char_classifier/cnn_char_model/cnn_char_model.pt\"\n",
    "\n",
    "with open(str(proj_path)+ \"\\\\\" + model_path_saved, 'rb') as f:\n",
    "    model_saved= pickle.load(f)"
   ]
  },
  {
   "cell_type": "code",
   "execution_count": 14,
   "metadata": {},
   "outputs": [],
   "source": [
    "# Load test data\n",
    "data_df= pd.read_csv(str(proj_path)+ \"\\\\\" + \"data/01_raw/allocine_test.csv\")\n",
    "\n",
    "test_data= charToTensor(data_df= data_df, sentence_max_size= cnn_sequence_len)"
   ]
  },
  {
   "cell_type": "code",
   "execution_count": 15,
   "metadata": {},
   "outputs": [],
   "source": [
    "# Initialisation\n",
    "parameters = {\"sequence_len\": cnn_sequence_len, \"feature_num\": cnn_feature_num\n",
    "    , \"feature_size\": cnn_feature_size, \"kernel_one\": cnn_kernel_one\n",
    "    , \"kernel_two\": cnn_kernel_two, \"stride_one\": cnn_stride_one\n",
    "    , \"stride_two\": cnn_stride_two, \"output_linear\": cnn_output_linear\n",
    "    , \"num_class\": cnn_num_class, \"dropout\": cnn_dropout}"
   ]
  },
  {
   "cell_type": "code",
   "execution_count": 16,
   "metadata": {
    "scrolled": true
   },
   "outputs": [
    {
     "data": {
      "text/plain": [
       "CNNCharClassifier(\n",
       "  (before_conv): Sequential(\n",
       "    (conv1_conv): Conv1d(87, 256, kernel_size=(7,), stride=(1,))\n",
       "    (conv1_relu): ReLU()\n",
       "  )\n",
       "  (pool): Sequential(\n",
       "    (conv1_maxpool): MaxPool1d(kernel_size=3, stride=3, padding=0, dilation=1, ceil_mode=False)\n",
       "  )\n",
       "  (after_conv): Sequential(\n",
       "    (conv2): Sequential(\n",
       "      (0): Conv1d(256, 256, kernel_size=(7,), stride=(1,))\n",
       "      (1): ReLU()\n",
       "      (2): MaxPool1d(kernel_size=3, stride=3, padding=0, dilation=1, ceil_mode=False)\n",
       "    )\n",
       "    (conv3): Sequential(\n",
       "      (0): Conv1d(256, 256, kernel_size=(3,), stride=(1,))\n",
       "      (1): ReLU()\n",
       "    )\n",
       "    (conv4): Sequential(\n",
       "      (0): Conv1d(256, 256, kernel_size=(3,), stride=(1,))\n",
       "      (1): ReLU()\n",
       "    )\n",
       "    (conv5): Sequential(\n",
       "      (0): Conv1d(256, 256, kernel_size=(3,), stride=(1,))\n",
       "      (1): ReLU()\n",
       "    )\n",
       "    (conv6): Sequential(\n",
       "      (0): Conv1d(256, 256, kernel_size=(3,), stride=(1,))\n",
       "      (1): ReLU()\n",
       "      (2): MaxPool1d(kernel_size=3, stride=3, padding=0, dilation=1, ceil_mode=False)\n",
       "    )\n",
       "  )\n",
       "  (conv1_conv): Conv1d(87, 256, kernel_size=(7,), stride=(1,))\n",
       "  (conv1_relu): ReLU()\n",
       "  (conv1_maxpool): MaxPool1d(kernel_size=3, stride=3, padding=0, dilation=1, ceil_mode=False)\n",
       "  (conv2): Sequential(\n",
       "    (0): Conv1d(256, 256, kernel_size=(7,), stride=(1,))\n",
       "    (1): ReLU()\n",
       "    (2): MaxPool1d(kernel_size=3, stride=3, padding=0, dilation=1, ceil_mode=False)\n",
       "  )\n",
       "  (conv3): Sequential(\n",
       "    (0): Conv1d(256, 256, kernel_size=(3,), stride=(1,))\n",
       "    (1): ReLU()\n",
       "  )\n",
       "  (conv4): Sequential(\n",
       "    (0): Conv1d(256, 256, kernel_size=(3,), stride=(1,))\n",
       "    (1): ReLU()\n",
       "  )\n",
       "  (conv5): Sequential(\n",
       "    (0): Conv1d(256, 256, kernel_size=(3,), stride=(1,))\n",
       "    (1): ReLU()\n",
       "  )\n",
       "  (conv6): Sequential(\n",
       "    (0): Conv1d(256, 256, kernel_size=(3,), stride=(1,))\n",
       "    (1): ReLU()\n",
       "    (2): MaxPool1d(kernel_size=3, stride=3, padding=0, dilation=1, ceil_mode=False)\n",
       "  )\n",
       "  (fc1): Sequential(\n",
       "    (0): Linear(in_features=8704, out_features=1024, bias=True)\n",
       "    (1): ReLU()\n",
       "    (2): Dropout(p=0.5, inplace=False)\n",
       "  )\n",
       "  (fc2): Sequential(\n",
       "    (0): Linear(in_features=1024, out_features=1024, bias=True)\n",
       "    (1): ReLU()\n",
       "    (2): Dropout(p=0.5, inplace=False)\n",
       "  )\n",
       "  (fc3): Linear(in_features=1024, out_features=2, bias=True)\n",
       "  (log_softmax): LogSoftmax(dim=1)\n",
       ")"
      ]
     },
     "execution_count": 16,
     "metadata": {},
     "output_type": "execute_result"
    }
   ],
   "source": [
    "model = CNNCharClassifier(**parameters)\n",
    "\n",
    "if cnn_cuda_allow:\n",
    "    model = torch.nn.DataParallel(model).cuda()\n",
    "else:\n",
    "    model = torch.nn.DataParallel(model)\n",
    "\n",
    "model.load_state_dict(model_saved)\n",
    "\n",
    "state_dict= model.module.state_dict() # delete module to allow cpu loading\n",
    "\n",
    "cpu_model= CNNCharClassifier(**parameters).cpu()\n",
    "cpu_model.load_state_dict(state_dict)\n",
    "\n",
    "cpu_model.eval()"
   ]
  },
  {
   "cell_type": "code",
   "execution_count": 52,
   "metadata": {},
   "outputs": [],
   "source": [
    "# Display results\n",
    "def cnn_char_gradcam(index, threshold= None,**kwargs):\n",
    "    \"\"\"\n",
    "    Display gradcam text with knowing the index text position\n",
    "    \n",
    "    -------\n",
    "    \n",
    "    kwargs:\n",
    "        - model\n",
    "        - loader : type charToTensor\n",
    "        - cnn_sequence_len\n",
    "        - params_graphics\n",
    "    \"\"\"\n",
    "    loader= kwargs[\"loader\"]\n",
    "    model= kwargs[\"model\"]\n",
    "    type_map= kwargs[\"type_map\"]\n",
    "    num_class= kwargs[\"num_class\"] \n",
    "    figsize= kwargs[\"figsize\"]\n",
    "    \n",
    "    text_sentence, _= loader[index]\n",
    "    text_sentence= torch.unsqueeze(text_sentence, 0)\n",
    "    \n",
    "    model.eval()\n",
    "    output= model(text_sentence)\n",
    "    print(\"Proba class 1 : {}\".format(torch.exp(output)[:, 1].data.numpy()[0]))\n",
    "    \n",
    "    heatmap_= model.get_heatmap(text= text_sentence\n",
    "                                    , num_class= num_class\n",
    "                                    , dim= [0, 2]\n",
    "                                    , type_map= type_map)\n",
    "    \n",
    "    # get the unique element\n",
    "    heatmap_values= heatmap_[-1]\n",
    "    \n",
    "    # CNNChar rebuilt from input the text\n",
    "    alphabet= loader.get_alphabet()+\" \"\n",
    "    rebuild_sentence= rebuild_text(text= text_sentence\n",
    "                                     , alphabet= alphabet\n",
    "                                     , space_index= len(alphabet) - 1 #83 # ajout de +4 si pas fait\n",
    "                                     , sequence_len= cnn_sequence_len)\n",
    "    \n",
    "    # Resize heatmap Brutal method\n",
    "    heatmap_match_sentence_size_invert= prepare_heatmap(heatmap= heatmap_values\n",
    "                                                    , text= rebuild_sentence)\n",
    "    \n",
    "    ## Transform character level to token one\n",
    "    letter_to_token= LetterToToken(text= rebuild_sentence\n",
    "                                   , heatmap= heatmap_match_sentence_size_invert)\n",
    "\n",
    "    results_dict= letter_to_token.transform_letter_to_token(type= \"tanh\")\n",
    "    tokens= results_dict[\"tokens\"]\n",
    "    heatmap_test= results_dict[\"heatmap\"]\n",
    "    \n",
    "    if threshold: # if inquired\n",
    "        condition= np.where(heatmap_test < threshold)[0] # if under, get index\n",
    "        heatmap_test[condition]= 0 # replace undervalues by 0\n",
    "    \n",
    "    plot_text_and_heatmap(text= tokens\n",
    "                      , heatmap= heatmap_test\n",
    "                      , figsize= figsize\n",
    "                      , fontsize_text= \"small\"\n",
    "                      , cmap= \"Greens\" if type_map == \"max\" else \"PiYG\"\n",
    "                      , word_or_letter= \"word\")\n",
    "    pass"
   ]
  },
  {
   "cell_type": "code",
   "execution_count": 123,
   "metadata": {},
   "outputs": [
    {
     "name": "stdout",
     "output_type": "stream",
     "text": [
      "Proba class 1 : 0.9985169768333435\n"
     ]
    },
    {
     "data": {
      "image/png": "[encoded data removed]",
      "text/plain": [
       "<Figure size 720x288 with 2 Axes>"
      ]
     },
     "metadata": {},
     "output_type": "display_data"
    },
    {
     "name": "stdout",
     "output_type": "stream",
     "text": [
      "Proba class 1 : 0.9985169768333435\n"
     ]
    },
    {
     "data": {
      "image/png": "[encoded data removed]",
      "text/plain": [
       "<Figure size 720x288 with 2 Axes>"
      ]
     },
     "metadata": {},
     "output_type": "display_data"
    }
   ],
   "source": [
    "# %matplotlib\n",
    "index= 0\n",
    "num_class= 1\n",
    "figsize= (10, 4)\n",
    "cnn_char_gradcam(index, model= cpu_model, loader= test_data, type_map= \"normalized\"\n",
    "                 , num_class= num_class, figsize= figsize)\n",
    "cnn_char_gradcam(index, model= cpu_model, loader= test_data, type_map= \"max\"\n",
    "                 , num_class= num_class, figsize= figsize)"
   ]
  },
  {
   "cell_type": "markdown",
   "metadata": {},
   "source": [
    "## Embedding vanilla"
   ]
  },
  {
   "cell_type": "code",
   "execution_count": 54,
   "metadata": {},
   "outputs": [
    {
     "name": "stdout",
     "output_type": "stream",
     "text": [
      "<class 'torch.utils.data.dataloader.DataLoader'>\n"
     ]
    }
   ],
   "source": [
    "test_iterator_cnn_embed_path= \"data/02_intermediate/test_iterator_cnn_embed.pkl\"\n",
    "\n",
    "with open(str(proj_path)+ \"\\\\\" + test_iterator_cnn_embed_path, 'rb') as f:\n",
    "    test_iterator_cnn_embed= pickle.load(f)\n",
    "    \n",
    "print(type(test_iterator_cnn_embed))"
   ]
  },
  {
   "cell_type": "code",
   "execution_count": 55,
   "metadata": {},
   "outputs": [
    {
     "name": "stdout",
     "output_type": "stream",
     "text": [
      "<class 'torch.Tensor'>\n"
     ]
    }
   ],
   "source": [
    "# Embedding model\n",
    "embed_for_torch_path= \"data/04_feature/w2v_torch.pkl\"\n",
    "\n",
    "with open(str(proj_path)+ \"\\\\\" + embed_for_torch_path, 'rb') as f:\n",
    "    embed_for_torch= pickle.load(f)\n",
    "    \n",
    "print(type(embed_for_torch))"
   ]
  },
  {
   "cell_type": "code",
   "execution_count": 56,
   "metadata": {},
   "outputs": [
    {
     "name": "stdout",
     "output_type": "stream",
     "text": [
      "<class 'dict'>\n"
     ]
    }
   ],
   "source": [
    "word_ind_dict_path= \"data/04_feature/voc.pkl\"\n",
    "\n",
    "with open(str(proj_path)+ \"\\\\\" + word_ind_dict_path, 'rb') as f:\n",
    "    word_ind_dict= pickle.load(f)\n",
    "    \n",
    "print(type(word_ind_dict))"
   ]
  },
  {
   "cell_type": "code",
   "execution_count": 57,
   "metadata": {},
   "outputs": [],
   "source": [
    "# Params\n",
    "params_models = {\"wv\": embed_for_torch,\"no_words\": 67,\"embedding_dim\":200, \"nb_filter\":200\n",
    "                 , \"height_filter\":tuple([1, 2, 3, 4, 5]), \"output_dim\":2, \"dropout\":0.8, \"padded\":True}"
   ]
  },
  {
   "cell_type": "code",
   "execution_count": 58,
   "metadata": {},
   "outputs": [
    {
     "name": "stdout",
     "output_type": "stream",
     "text": [
      "<class 'collections.OrderedDict'>\n"
     ]
    }
   ],
   "source": [
    "# Model dict\n",
    "embed_cnn_model_for_save_path= \"data/06_models/embed_cnn/embed_cnn_classifier/embed_cnn.pt\"\n",
    "\n",
    "with open(str(proj_path)+ \"\\\\\" + embed_cnn_model_for_save_path, 'rb') as f:\n",
    "    embed_cnn_model_for_save= pickle.load(f)\n",
    "    \n",
    "print(type(embed_cnn_model_for_save))"
   ]
  },
  {
   "cell_type": "code",
   "execution_count": 63,
   "metadata": {},
   "outputs": [
    {
     "data": {
      "text/plain": [
       "classifier3F(\n",
       "  (before_conv): Sequential(\n",
       "    (conv1_conv_1): Conv2d(1, 200, kernel_size=(1, 200), stride=(1, 1))\n",
       "    (conv1_conv_2): Conv2d(1, 200, kernel_size=(2, 200), stride=(1, 1))\n",
       "    (conv1_conv_3): Conv2d(1, 200, kernel_size=(3, 200), stride=(1, 1))\n",
       "    (conv1_conv_4): Conv2d(1, 200, kernel_size=(4, 200), stride=(1, 1))\n",
       "    (conv1_conv_5): Conv2d(1, 200, kernel_size=(5, 200), stride=(1, 1))\n",
       "    (conv1_relu): ReLU()\n",
       "  )\n",
       "  (pool): Sequential(\n",
       "    (conv1_maxpool): Sequential(\n",
       "      (0): MaxPool1d(kernel_size=67, stride=1, padding=0, dilation=1, ceil_mode=False)\n",
       "    )\n",
       "  )\n",
       "  (after_conv): Sequential(\n",
       "    (dp): Dropout(p=0.8, inplace=False)\n",
       "    (fc): Linear(in_features=1000, out_features=2, bias=True)\n",
       "    (sm): Softmax(dim=1)\n",
       "  )\n",
       "  (embedding): Embedding(155564, 200)\n",
       "  (conv1_conv): ModuleList(\n",
       "    (0): Conv2d(1, 200, kernel_size=(1, 200), stride=(1, 1))\n",
       "    (1): Conv2d(1, 200, kernel_size=(2, 200), stride=(1, 1))\n",
       "    (2): Conv2d(1, 200, kernel_size=(3, 200), stride=(1, 1))\n",
       "    (3): Conv2d(1, 200, kernel_size=(4, 200), stride=(1, 1))\n",
       "    (4): Conv2d(1, 200, kernel_size=(5, 200), stride=(1, 1))\n",
       "  )\n",
       "  (conv1_relu): ReLU()\n",
       "  (conv1_maxpool): Sequential(\n",
       "    (0): MaxPool1d(kernel_size=67, stride=1, padding=0, dilation=1, ceil_mode=False)\n",
       "  )\n",
       "  (fc): Linear(in_features=1000, out_features=2, bias=True)\n",
       "  (sm): Softmax(dim=1)\n",
       "  (dp): Dropout(p=0.8, inplace=False)\n",
       ")"
      ]
     },
     "execution_count": 63,
     "metadata": {},
     "output_type": "execute_result"
    }
   ],
   "source": [
    "model_embed = classifier3F(**params_models)\n",
    "\n",
    "model_embed.load_state_dict(embed_cnn_model_for_save)\n",
    "model_embed= model_embed.cpu()\n",
    "model_embed.eval()"
   ]
  },
  {
   "cell_type": "code",
   "execution_count": 137,
   "metadata": {},
   "outputs": [],
   "source": [
    "# display\n",
    "def embed_gradcam(index, heatmap_index, index_nothing= None, model_type= None\n",
    "                  , threshold= None,**kwargs):\n",
    "    \"\"\"\n",
    "    Display gradcam text with knowing the index text position\n",
    "    \n",
    "    -------\n",
    "    \n",
    "    kwargs:\n",
    "        - model\n",
    "        - loader : type charToTensor\n",
    "        - cnn_sequence_len\n",
    "        - params_graphics\n",
    "    \"\"\"\n",
    "    data_loader= kwargs[\"data_loader\"]\n",
    "    model= kwargs[\"model\"]\n",
    "    type_map= kwargs[\"type_map\"]\n",
    "    num_class= kwargs[\"num_class\"] \n",
    "    figsize= kwargs[\"figsize\"]\n",
    "    vocab= kwargs[\"vocab\"]\n",
    "    \n",
    "    text_sentence, _= next(itertools.islice(data_loader, index, None))\n",
    "    if model_type == \"bilstm\":\n",
    "        text_sentence= text_sentence.to(torch.int64)\n",
    "    \n",
    "    model.eval()\n",
    "    output= model(text_sentence)\n",
    "    print(\"Proba class 1 : {}\".format(output[:, 1].data.numpy()[0]))\n",
    "    \n",
    "    heatmap_= model.get_heatmap(text= text_sentence\n",
    "                                    , num_class= num_class\n",
    "                                    , dim= [0, 2]\n",
    "                                    , type_map= type_map)\n",
    "    heatmap_values= heatmap_[heatmap_index]\n",
    "    \n",
    "    text_index = text_sentence.squeeze().numpy()\n",
    "    vocab_reverse= {y:x for x,y in vocab.items()}\n",
    "    word = np.array([vocab_reverse.get(index, \"\") for index in text_index])\n",
    "    \n",
    "    if index_nothing is None: # generate warning but its ok dude\n",
    "        index_nothing = np.array([])\n",
    "    selected_word_bool = np.in1d(text_index, index_nothing)\n",
    "    # Get index of word we want\n",
    "    selected_word_index = np.where(~selected_word_bool)[0]\n",
    "\n",
    "    # Select interesting words\n",
    "    selected_word = word[selected_word_index]\n",
    "    selected_heatmap_values= heatmap_values[selected_word_index]\n",
    "    \n",
    "    if threshold: # if inquired\n",
    "        condition= np.where(selected_heatmap_values < threshold)[0] # if under, get index\n",
    "        selected_heatmap_values[condition]= 0 # replace undervalues by 0\n",
    "    \n",
    "    plot_text_and_heatmap(text= selected_word.tolist()\n",
    "                      , heatmap= selected_heatmap_values\n",
    "                      , figsize= figsize\n",
    "                      , fontsize_text= \"small\"\n",
    "                      , cmap= \"Greens\" if type_map == \"max\" else \"PiYG\"\n",
    "                      , word_or_letter= \"word\")\n",
    "    \n",
    "    pass"
   ]
  },
  {
   "cell_type": "code",
   "execution_count": 122,
   "metadata": {},
   "outputs": [
    {
     "name": "stdout",
     "output_type": "stream",
     "text": [
      "Proba class 1 : 0.04856044426560402\n"
     ]
    },
    {
     "data": {
      "image/png": "[encoded data removed]",
      "text/plain": [
       "<Figure size 720x288 with 2 Axes>"
      ]
     },
     "metadata": {},
     "output_type": "display_data"
    }
   ],
   "source": [
    "index= 1\n",
    "num_class= 1\n",
    "figsize= (10, 4)\n",
    "index_nothing= np.array([155563, 155562])\n",
    "\n",
    "embed_gradcam(index, heatmap_index= -1, model= model_embed, data_loader= test_iterator_cnn_embed\n",
    "                , type_map= \"normalized\", vocab= word_ind_dict, num_class= num_class, figsize= figsize\n",
    "                , index_nothing= index_nothing)"
   ]
  },
  {
   "cell_type": "markdown",
   "metadata": {},
   "source": [
    "## Bilstm"
   ]
  },
  {
   "cell_type": "code",
   "execution_count": 114,
   "metadata": {},
   "outputs": [
    {
     "name": "stdout",
     "output_type": "stream",
     "text": [
      "<class 'numpy.ndarray'>\n"
     ]
    }
   ],
   "source": [
    "#\n",
    "embed_matrix_path= \"data/02_intermediate/bilstm_cnn/embed_matrix.pkl\"\n",
    "\n",
    "with open(str(proj_path)+ \"\\\\\" + embed_matrix_path, 'rb') as f:\n",
    "    embed_matrix= pickle.load(f)\n",
    "    \n",
    "print(type(embed_matrix))"
   ]
  },
  {
   "cell_type": "code",
   "execution_count": 115,
   "metadata": {},
   "outputs": [
    {
     "name": "stdout",
     "output_type": "stream",
     "text": [
      "<class 'dict'>\n"
     ]
    }
   ],
   "source": [
    "word_ind_dict_path_bilstm= \"data/04_feature/voc_bilstm.pkl\"\n",
    "\n",
    "with open(str(proj_path)+ \"\\\\\" + word_ind_dict_path_bilstm, 'rb') as f:\n",
    "    word_ind_dict_bilstm= pickle.load(f)\n",
    "    \n",
    "print(type(word_ind_dict_bilstm))"
   ]
  },
  {
   "cell_type": "code",
   "execution_count": 116,
   "metadata": {},
   "outputs": [
    {
     "name": "stdout",
     "output_type": "stream",
     "text": [
      "<class 'torch.utils.data.dataloader.DataLoader'>\n"
     ]
    }
   ],
   "source": [
    "#\n",
    "test_batch_bilstm_path= \"data/02_intermediate/test_iterator_cnn_bilstm.pkl\"\n",
    "\n",
    "with open(str(proj_path)+ \"\\\\\" + test_batch_bilstm_path, 'rb') as f:\n",
    "    test_batch_bilstm= pickle.load(f)\n",
    "    \n",
    "print(type(test_batch_bilstm))#BiLSTM + CNN\n",
    "num_epochs=  50\n",
    "batch_size= 32\n",
    "patience= 5\n",
    "lr= 0.001\n",
    "input_dim= 200\n",
    "hidden_dim= 128\n",
    "layer_dim= 2\n",
    "feature_size= 256\n",
    "output_dim= 2\n",
    "kernel_size= 3\n",
    "dropout_rate= 0.5\n",
    "sentence_size= 67\n",
    "padded= True"
   ]
  },
  {
   "cell_type": "code",
   "execution_count": 117,
   "metadata": {},
   "outputs": [
    {
     "name": "stdout",
     "output_type": "stream",
     "text": [
      "<class 'collections.OrderedDict'>\n"
     ]
    }
   ],
   "source": [
    "#\n",
    "bilstm_cnn_model_for_save_path= \"data/06_models/bilstm_cnn/bilstm_cnn_classifier/bilstm_cnn.pt\"\n",
    "\n",
    "with open(str(proj_path)+ \"\\\\\" + bilstm_cnn_model_for_save_path, 'rb') as f:\n",
    "    bilstm_cnn_model_for_save= pickle.load(f)\n",
    "    \n",
    "print(type(bilstm_cnn_model_for_save))"
   ]
  },
  {
   "cell_type": "code",
   "execution_count": 118,
   "metadata": {},
   "outputs": [
    {
     "data": {
      "text/plain": [
       "BilstmCnn(\n",
       "  (before_conv): Sequential(\n",
       "    (conv): Sequential(\n",
       "      (0): Conv1d(256, 256, kernel_size=(3,), stride=(1,))\n",
       "      (1): BatchNorm1d(256, eps=1e-05, momentum=0.1, affine=True, track_running_stats=True)\n",
       "      (2): ReLU()\n",
       "    )\n",
       "  )\n",
       "  (pool): Sequential(\n",
       "    (maxpool): MaxPool1d(kernel_size=2, stride=2, padding=0, dilation=1, ceil_mode=False)\n",
       "  )\n",
       "  (after_conv): Sequential(\n",
       "    (fc): Linear(in_features=8448, out_features=2, bias=True)\n",
       "    (sm): Softmax(dim=1)\n",
       "  )\n",
       "  (embedding): Embedding(144214, 200, padding_idx=0)\n",
       "  (LSTM): LSTM(200, 128, num_layers=2, dropout=0.5, bidirectional=True)\n",
       "  (convLayer): Sequential(\n",
       "    (0): Conv1d(256, 256, kernel_size=(3,), stride=(1,))\n",
       "    (1): BatchNorm1d(256, eps=1e-05, momentum=0.1, affine=True, track_running_stats=True)\n",
       "    (2): ReLU()\n",
       "  )\n",
       "  (maxpool): MaxPool1d(kernel_size=2, stride=2, padding=0, dilation=1, ceil_mode=False)\n",
       "  (fc): Linear(in_features=8448, out_features=2, bias=True)\n",
       "  (softmax): Softmax(dim=1)\n",
       ")"
      ]
     },
     "execution_count": 118,
     "metadata": {},
     "output_type": "execute_result"
    }
   ],
   "source": [
    "model = BilstmCnn(embed_matrix, sentence_size, input_dim, hidden_dim\n",
    "                  , layer_dim, output_dim, feature_size, kernel_size, dropout_rate, padded)\n",
    "\n",
    "if cnn_cuda_allow:\n",
    "    model = torch.nn.DataParallel(model).cuda()\n",
    "else:\n",
    "    model = torch.nn.DataParallel(model)\n",
    "\n",
    "model.load_state_dict(bilstm_cnn_model_for_save)\n",
    "\n",
    "state_dict= model.module.state_dict() \n",
    "\n",
    "cpu_bilstm_model= BilstmCnn(embed_matrix, sentence_size, input_dim, hidden_dim\n",
    "                  , layer_dim, output_dim, feature_size, kernel_size, dropout_rate, padded).cpu()\n",
    "\n",
    "cpu_bilstm_model.load_state_dict(state_dict)\n",
    "cpu_bilstm_model"
   ]
  },
  {
   "cell_type": "code",
   "execution_count": 138,
   "metadata": {},
   "outputs": [
    {
     "name": "stdout",
     "output_type": "stream",
     "text": [
      "Proba class 1 : 0.48707589507102966\n"
     ]
    },
    {
     "data": {
      "image/png": "[encoded data removed]",
      "text/plain": [
       "<Figure size 720x288 with 2 Axes>"
      ]
     },
     "metadata": {},
     "output_type": "display_data"
    }
   ],
   "source": [
    "index= 1\n",
    "num_class= 1\n",
    "figsize= (10, 4)\n",
    "index_nothing= np.array([144213])\n",
    "\n",
    "embed_gradcam(index, heatmap_index= -1, model_type= \"bilstm\", model= cpu_bilstm_model, data_loader= test_batch_bilstm\n",
    "                , type_map= \"normalized\", vocab= word_ind_dict_bilstm, num_class= num_class, figsize= figsize\n",
    "                , index_nothing= index_nothing)"
   ]
  },
  {
   "cell_type": "code",
   "execution_count": null,
   "metadata": {},
   "outputs": [],
   "source": []
  }
 ],
 "metadata": {
  "kernelspec": {
   "display_name": "Python 3",
   "language": "python",
   "name": "python3"
  },
  "language_info": {
   "codemirror_mode": {
    "name": "ipython",
    "version": 3
   },
   "file_extension": ".py",
   "mimetype": "text/x-python",
   "name": "python",
   "nbconvert_exporter": "python",
   "pygments_lexer": "ipython3",
   "version": "3.8.5"
  }
 },
 "nbformat": 4,
 "nbformat_minor": 1
}
