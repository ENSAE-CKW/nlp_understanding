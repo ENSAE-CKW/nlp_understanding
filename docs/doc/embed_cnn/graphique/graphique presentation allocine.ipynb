{
 "cells": [
  {
   "cell_type": "markdown",
   "metadata": {},
   "source": [
    "# Graphique exploratoire de la base *allocine*"
   ]
  },
  {
   "cell_type": "code",
   "execution_count": 22,
   "metadata": {},
   "outputs": [],
   "source": [
    "import pandas as pd\n",
    "import spacy\n",
    "import seaborn as sns\n",
    "from datasets import load_dataset"
   ]
  },
  {
   "cell_type": "code",
   "execution_count": 13,
   "metadata": {},
   "outputs": [
    {
     "name": "stderr",
     "output_type": "stream",
     "text": [
      "Reusing dataset allocine_dataset (C:\\Users\\khale\\.cache\\huggingface\\datasets\\allocine_dataset\\allocine\\1.0.0\\bbee2ebb45a067891973b91ebdd40a93598d1e2dd5710b6714cdc2cd81d0ed65)\n"
     ]
    }
   ],
   "source": [
    "dataset_allocine = load_dataset(\"allocine\")\n",
    "nlp = spacy.load('fr_core_news_sm', disable=[\"tagger\", \"parser\",\"ner\"])"
   ]
  },
  {
   "cell_type": "code",
   "execution_count": 14,
   "metadata": {},
   "outputs": [],
   "source": [
    "def tokenizer(exemple):\n",
    "    return [X.lemma_ for X in nlp(exemple) if X.is_alpha & (not(X.is_stop))]"
   ]
  },
  {
   "cell_type": "code",
   "execution_count": 15,
   "metadata": {},
   "outputs": [],
   "source": [
    "allo_train = pd.DataFrame(dataset_allocine[\"train\"]).apply(lambda x : tokenizer(x[\"review\"]), axis = 1)"
   ]
  },
  {
   "cell_type": "markdown",
   "metadata": {},
   "source": [
    "Distribution des longueurs des phrases dans le training set"
   ]
  },
  {
   "cell_type": "code",
   "execution_count": 29,
   "metadata": {},
   "outputs": [
    {
     "data": {
      "image/png": "[encoded data removed]",
      "text/plain": [
       "<Figure size 432x288 with 1 Axes>"
      ]
     },
     "metadata": {
      "needs_background": "light"
     },
     "output_type": "display_data"
    }
   ],
   "source": [
    "mots_train = allo_train.apply(lambda x : len(x)).hist()\n",
    "mots_train.set_xlabel(\"Number of words\")\n",
    "mots_train.set_ylabel(\"Number of sentences\")\n",
    "\n",
    "mots_train.get_figure().savefig('hist_train_word.png')"
   ]
  }
 ],
 "metadata": {
  "kernelspec": {
   "display_name": "stat_app",
   "language": "python",
   "name": "stat_app"
  },
  "language_info": {
   "codemirror_mode": {
    "name": "ipython",
    "version": 3
   },
   "file_extension": ".py",
   "mimetype": "text/x-python",
   "name": "python",
   "nbconvert_exporter": "python",
   "pygments_lexer": "ipython3",
   "version": "3.8.5"
  }
 },
 "nbformat": 4,
 "nbformat_minor": 4
}
